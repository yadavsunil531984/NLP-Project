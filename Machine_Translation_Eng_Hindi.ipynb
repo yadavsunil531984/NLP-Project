{
 "cells": [
  {
   "cell_type": "markdown",
   "metadata": {},
   "source": [
    "## Import Library"
   ]
  },
  {
   "cell_type": "raw",
   "metadata": {},
   "source": [
    "https://www.kaggle.com/code/aiswaryaramachandran/english-to-hindi-neural-machine-translation"
   ]
  },
  {
   "cell_type": "code",
   "execution_count": 42,
   "metadata": {},
   "outputs": [],
   "source": [
    "import numpy as np\n",
    "import pandas as pd \n",
    "import re\n",
    "import os\n",
    "import string\n",
    "from string import digits\n",
    "import matplotlib.pyplot as plt\n",
    "import seaborn as sns\n",
    "from sklearn.utils import shuffle\n",
    "from sklearn.model_selection import train_test_split\n",
    "from keras.layers import Input, LSTM, Embedding, Dense\n",
    "from keras.models import Model"
   ]
  },
  {
   "cell_type": "markdown",
   "metadata": {},
   "source": [
    "## Load the Data Sets"
   ]
  },
  {
   "cell_type": "code",
   "execution_count": 43,
   "metadata": {},
   "outputs": [],
   "source": [
    "lines=pd.read_csv(\"Hindi_English_Truncated_Corpus.csv\",encoding='utf-8')"
   ]
  },
  {
   "cell_type": "code",
   "execution_count": 44,
   "metadata": {},
   "outputs": [
    {
     "data": {
      "text/plain": [
       "127607"
      ]
     },
     "execution_count": 44,
     "metadata": {},
     "output_type": "execute_result"
    }
   ],
   "source": [
    "len(lines)"
   ]
  },
  {
   "cell_type": "code",
   "execution_count": 45,
   "metadata": {},
   "outputs": [
    {
     "data": {
      "text/plain": [
       "tides        50000\n",
       "ted          39881\n",
       "indic2012    37726\n",
       "Name: source, dtype: int64"
      ]
     },
     "execution_count": 45,
     "metadata": {},
     "output_type": "execute_result"
    }
   ],
   "source": [
    "lines['source'].value_counts()"
   ]
  },
  {
   "cell_type": "raw",
   "metadata": {},
   "source": [
    "lines=lines[lines['source']=='tides']"
   ]
  },
  {
   "cell_type": "code",
   "execution_count": 46,
   "metadata": {},
   "outputs": [],
   "source": [
    "lines = lines[lines['source'].isin(['ted', 'tides'])]"
   ]
  },
  {
   "cell_type": "code",
   "execution_count": 47,
   "metadata": {},
   "outputs": [
    {
     "data": {
      "text/html": [
       "<div>\n",
       "<style scoped>\n",
       "    .dataframe tbody tr th:only-of-type {\n",
       "        vertical-align: middle;\n",
       "    }\n",
       "\n",
       "    .dataframe tbody tr th {\n",
       "        vertical-align: top;\n",
       "    }\n",
       "\n",
       "    .dataframe thead th {\n",
       "        text-align: right;\n",
       "    }\n",
       "</style>\n",
       "<table border=\"1\" class=\"dataframe\">\n",
       "  <thead>\n",
       "    <tr style=\"text-align: right;\">\n",
       "      <th></th>\n",
       "      <th>source</th>\n",
       "      <th>english_sentence</th>\n",
       "      <th>hindi_sentence</th>\n",
       "    </tr>\n",
       "  </thead>\n",
       "  <tbody>\n",
       "    <tr>\n",
       "      <th>0</th>\n",
       "      <td>ted</td>\n",
       "      <td>politicians do not have permission to do what ...</td>\n",
       "      <td>राजनीतिज्ञों के पास जो कार्य करना चाहिए, वह कर...</td>\n",
       "    </tr>\n",
       "    <tr>\n",
       "      <th>1</th>\n",
       "      <td>ted</td>\n",
       "      <td>I'd like to tell you about one such child,</td>\n",
       "      <td>मई आपको ऐसे ही एक बच्चे के बारे में बताना चाहू...</td>\n",
       "    </tr>\n",
       "    <tr>\n",
       "      <th>3</th>\n",
       "      <td>ted</td>\n",
       "      <td>what we really mean is that they're bad at not...</td>\n",
       "      <td>हम ये नहीं कहना चाहते कि वो ध्यान नहीं दे पाते</td>\n",
       "    </tr>\n",
       "    <tr>\n",
       "      <th>5</th>\n",
       "      <td>tides</td>\n",
       "      <td>The then Governor of Kashmir resisted transfer...</td>\n",
       "      <td>कश्मीर के तत्कालीन गवर्नर ने इस हस्तांतरण का व...</td>\n",
       "    </tr>\n",
       "    <tr>\n",
       "      <th>7</th>\n",
       "      <td>ted</td>\n",
       "      <td>And who are we to say, even, that they are wrong</td>\n",
       "      <td>और हम होते कौन हैं यह कहने भी वाले कि वे गलत हैं</td>\n",
       "    </tr>\n",
       "    <tr>\n",
       "      <th>9</th>\n",
       "      <td>tides</td>\n",
       "      <td>You may want your child to go to a school that...</td>\n",
       "      <td>हो सकता है कि आप चाहते हों कि आप का नऋर्नमेनटे...</td>\n",
       "    </tr>\n",
       "    <tr>\n",
       "      <th>10</th>\n",
       "      <td>tides</td>\n",
       "      <td>Please ensure that you use the appropriate form .</td>\n",
       "      <td>कृपया यह सुनिश्चित कर लें कि आप सही फॉर्म का प...</td>\n",
       "    </tr>\n",
       "    <tr>\n",
       "      <th>13</th>\n",
       "      <td>ted</td>\n",
       "      <td>So there is some sort of justice</td>\n",
       "      <td>तो वहाँ न्याय है</td>\n",
       "    </tr>\n",
       "    <tr>\n",
       "      <th>14</th>\n",
       "      <td>tides</td>\n",
       "      <td>The first two were found unreliable and the pr...</td>\n",
       "      <td>पहले दो को अविश्वसनीय मानकर बाकी पांच मुखबिरों...</td>\n",
       "    </tr>\n",
       "    <tr>\n",
       "      <th>15</th>\n",
       "      <td>tides</td>\n",
       "      <td>They had justified their educational policy of...</td>\n",
       "      <td>कम संख़्या वाले उच्च एवं मध्यम श्रेणी के लोगों...</td>\n",
       "    </tr>\n",
       "    <tr>\n",
       "      <th>18</th>\n",
       "      <td>tides</td>\n",
       "      <td>ii Register Courts , empowered to try causes f...</td>\n",
       "      <td>रजिस्टर न्यायालय जिन्हें न्यायाधीश द्वारा प्रा...</td>\n",
       "    </tr>\n",
       "    <tr>\n",
       "      <th>20</th>\n",
       "      <td>tides</td>\n",
       "      <td>Of these Lahadi is a popular one .</td>\n",
       "      <td>' लाडड़ी लोकप्रिय स्त्री नृत्य है .</td>\n",
       "    </tr>\n",
       "    <tr>\n",
       "      <th>21</th>\n",
       "      <td>tides</td>\n",
       "      <td>Even a concentration of 0.001 ppm of hydrogen ...</td>\n",
       "      <td>यहां तक कि पानी में हाइड्रोजन सल्फाइड की 0.001...</td>\n",
       "    </tr>\n",
       "    <tr>\n",
       "      <th>23</th>\n",
       "      <td>ted</td>\n",
       "      <td>This changed slowly</td>\n",
       "      <td>धीरे धीरे ये सब बदला</td>\n",
       "    </tr>\n",
       "    <tr>\n",
       "      <th>24</th>\n",
       "      <td>tides</td>\n",
       "      <td>Far more interesting are genetic diseases that...</td>\n",
       "      <td>एक ही जीन के उत्परिवर्तन के कारण होने वाले आनु...</td>\n",
       "    </tr>\n",
       "    <tr>\n",
       "      <th>25</th>\n",
       "      <td>tides</td>\n",
       "      <td>The FIs are expected to offload the stake in f...</td>\n",
       "      <td>बाद में वित्तैइय संस्थाएं इन शेयरों को सुजुकी ...</td>\n",
       "    </tr>\n",
       "    <tr>\n",
       "      <th>26</th>\n",
       "      <td>ted</td>\n",
       "      <td>were being produced.</td>\n",
       "      <td>उत्पन्न नहीं कि जाती थी.</td>\n",
       "    </tr>\n",
       "    <tr>\n",
       "      <th>27</th>\n",
       "      <td>tides</td>\n",
       "      <td>Naren had three or four meetings with the Cons...</td>\n",
       "      <td>नरेंद्र ने कौंसिल से तीन या चार मुलाकातें की क...</td>\n",
       "    </tr>\n",
       "    <tr>\n",
       "      <th>28</th>\n",
       "      <td>tides</td>\n",
       "      <td>All those who stand today under this flag are ...</td>\n",
       "      <td>जो भी इस झंडे के नीचे खड़ा है वह न हिंदू है , ...</td>\n",
       "    </tr>\n",
       "    <tr>\n",
       "      <th>29</th>\n",
       "      <td>tides</td>\n",
       "      <td>In some cases the High Courts have the jurisdi...</td>\n",
       "      <td>कुछ मामलों में प्रथम स्तर के न्यायालय होने के ...</td>\n",
       "    </tr>\n",
       "  </tbody>\n",
       "</table>\n",
       "</div>"
      ],
      "text/plain": [
       "   source                                   english_sentence  \\\n",
       "0     ted  politicians do not have permission to do what ...   \n",
       "1     ted         I'd like to tell you about one such child,   \n",
       "3     ted  what we really mean is that they're bad at not...   \n",
       "5   tides  The then Governor of Kashmir resisted transfer...   \n",
       "7     ted   And who are we to say, even, that they are wrong   \n",
       "9   tides  You may want your child to go to a school that...   \n",
       "10  tides  Please ensure that you use the appropriate form .   \n",
       "13    ted                   So there is some sort of justice   \n",
       "14  tides  The first two were found unreliable and the pr...   \n",
       "15  tides  They had justified their educational policy of...   \n",
       "18  tides  ii Register Courts , empowered to try causes f...   \n",
       "20  tides                 Of these Lahadi is a popular one .   \n",
       "21  tides  Even a concentration of 0.001 ppm of hydrogen ...   \n",
       "23    ted                                This changed slowly   \n",
       "24  tides  Far more interesting are genetic diseases that...   \n",
       "25  tides  The FIs are expected to offload the stake in f...   \n",
       "26    ted                               were being produced.   \n",
       "27  tides  Naren had three or four meetings with the Cons...   \n",
       "28  tides  All those who stand today under this flag are ...   \n",
       "29  tides  In some cases the High Courts have the jurisdi...   \n",
       "\n",
       "                                       hindi_sentence  \n",
       "0   राजनीतिज्ञों के पास जो कार्य करना चाहिए, वह कर...  \n",
       "1   मई आपको ऐसे ही एक बच्चे के बारे में बताना चाहू...  \n",
       "3      हम ये नहीं कहना चाहते कि वो ध्यान नहीं दे पाते  \n",
       "5   कश्मीर के तत्कालीन गवर्नर ने इस हस्तांतरण का व...  \n",
       "7    और हम होते कौन हैं यह कहने भी वाले कि वे गलत हैं  \n",
       "9   हो सकता है कि आप चाहते हों कि आप का नऋर्नमेनटे...  \n",
       "10  कृपया यह सुनिश्चित कर लें कि आप सही फॉर्म का प...  \n",
       "13                                   तो वहाँ न्याय है  \n",
       "14  पहले दो को अविश्वसनीय मानकर बाकी पांच मुखबिरों...  \n",
       "15  कम संख़्या वाले उच्च एवं मध्यम श्रेणी के लोगों...  \n",
       "18  रजिस्टर न्यायालय जिन्हें न्यायाधीश द्वारा प्रा...  \n",
       "20                ' लाडड़ी लोकप्रिय स्त्री नृत्य है .  \n",
       "21  यहां तक कि पानी में हाइड्रोजन सल्फाइड की 0.001...  \n",
       "23                               धीरे धीरे ये सब बदला  \n",
       "24  एक ही जीन के उत्परिवर्तन के कारण होने वाले आनु...  \n",
       "25  बाद में वित्तैइय संस्थाएं इन शेयरों को सुजुकी ...  \n",
       "26                           उत्पन्न नहीं कि जाती थी.  \n",
       "27  नरेंद्र ने कौंसिल से तीन या चार मुलाकातें की क...  \n",
       "28  जो भी इस झंडे के नीचे खड़ा है वह न हिंदू है , ...  \n",
       "29  कुछ मामलों में प्रथम स्तर के न्यायालय होने के ...  "
      ]
     },
     "execution_count": 47,
     "metadata": {},
     "output_type": "execute_result"
    }
   ],
   "source": [
    "lines.head(20)"
   ]
  },
  {
   "cell_type": "code",
   "execution_count": 48,
   "metadata": {},
   "outputs": [
    {
     "data": {
      "text/plain": [
       "89881"
      ]
     },
     "execution_count": 48,
     "metadata": {},
     "output_type": "execute_result"
    }
   ],
   "source": [
    "len(lines)"
   ]
  },
  {
   "cell_type": "code",
   "execution_count": 49,
   "metadata": {},
   "outputs": [
    {
     "data": {
      "text/plain": [
       "source              0\n",
       "english_sentence    0\n",
       "hindi_sentence      0\n",
       "dtype: int64"
      ]
     },
     "execution_count": 49,
     "metadata": {},
     "output_type": "execute_result"
    }
   ],
   "source": [
    "# Count the null values in each column\n",
    "pd.isnull(lines).sum()"
   ]
  },
  {
   "cell_type": "code",
   "execution_count": 50,
   "metadata": {},
   "outputs": [],
   "source": [
    "# Select record with Not Null values\n",
    "lines=lines[~pd.isnull(lines['english_sentence'])]"
   ]
  },
  {
   "cell_type": "code",
   "execution_count": 51,
   "metadata": {},
   "outputs": [],
   "source": [
    "# Drop the duplicates record\n",
    "lines.drop_duplicates(inplace=True)"
   ]
  },
  {
   "cell_type": "code",
   "execution_count": 52,
   "metadata": {},
   "outputs": [
    {
     "data": {
      "text/plain": [
       "(50000, 3)"
      ]
     },
     "execution_count": 52,
     "metadata": {},
     "output_type": "execute_result"
    }
   ],
   "source": [
    "# Filter 50K Records\n",
    "lines=lines.sample(n=50000,random_state=42)\n",
    "lines.shape"
   ]
  },
  {
   "cell_type": "markdown",
   "metadata": {},
   "source": [
    "## Preprocess the Datasets"
   ]
  },
  {
   "cell_type": "code",
   "execution_count": 53,
   "metadata": {},
   "outputs": [],
   "source": [
    "# Lowercase all characters\n",
    "lines['english_sentence']=lines['english_sentence'].apply(lambda x: x.lower())\n",
    "lines['hindi_sentence']=lines['hindi_sentence'].apply(lambda x: x.lower())"
   ]
  },
  {
   "cell_type": "code",
   "execution_count": 54,
   "metadata": {},
   "outputs": [],
   "source": [
    "# Remove quotes\n",
    "lines['english_sentence']=lines['english_sentence'].apply(lambda x: re.sub(\"'\", '', x))\n",
    "lines['hindi_sentence']=lines['hindi_sentence'].apply(lambda x: re.sub(\"'\", '', x))"
   ]
  },
  {
   "cell_type": "code",
   "execution_count": 55,
   "metadata": {},
   "outputs": [],
   "source": [
    "exclude = set(string.punctuation) # Set of all special characters\n",
    "# Remove all the special characters\n",
    "lines['english_sentence']=lines['english_sentence'].apply(lambda x: ''.join(ch for ch in x if ch not in exclude))\n",
    "lines['hindi_sentence']=lines['hindi_sentence'].apply(lambda x: ''.join(ch for ch in x if ch not in exclude))"
   ]
  },
  {
   "cell_type": "code",
   "execution_count": 56,
   "metadata": {},
   "outputs": [],
   "source": [
    "# Remove all numbers from text\n",
    "remove_digits = str.maketrans('', '', digits)\n",
    "lines['english_sentence']=lines['english_sentence'].apply(lambda x: x.translate(remove_digits))\n",
    "lines['hindi_sentence']=lines['hindi_sentence'].apply(lambda x: x.translate(remove_digits))\n",
    "lines['hindi_sentence'] = lines['hindi_sentence'].apply(lambda x: re.sub(\"[२३०८१५७९४६]\", \"\", x))\n",
    "\n",
    "# Remove extra spaces\n",
    "lines['english_sentence']=lines['english_sentence'].apply(lambda x: x.strip())\n",
    "lines['hindi_sentence']=lines['hindi_sentence'].apply(lambda x: x.strip())\n",
    "lines['english_sentence']=lines['english_sentence'].apply(lambda x: re.sub(\" +\", \" \", x))\n",
    "lines['hindi_sentence']=lines['hindi_sentence'].apply(lambda x: re.sub(\" +\", \" \", x))"
   ]
  },
  {
   "cell_type": "code",
   "execution_count": 57,
   "metadata": {},
   "outputs": [],
   "source": [
    "# Add start and end tokens to target sequences\n",
    "lines['hindi_sentence'] = lines['hindi_sentence'].apply(lambda x : 'START_ '+ x + ' _END')"
   ]
  },
  {
   "cell_type": "code",
   "execution_count": 58,
   "metadata": {},
   "outputs": [
    {
     "data": {
      "text/html": [
       "<div>\n",
       "<style scoped>\n",
       "    .dataframe tbody tr th:only-of-type {\n",
       "        vertical-align: middle;\n",
       "    }\n",
       "\n",
       "    .dataframe tbody tr th {\n",
       "        vertical-align: top;\n",
       "    }\n",
       "\n",
       "    .dataframe thead th {\n",
       "        text-align: right;\n",
       "    }\n",
       "</style>\n",
       "<table border=\"1\" class=\"dataframe\">\n",
       "  <thead>\n",
       "    <tr style=\"text-align: right;\">\n",
       "      <th></th>\n",
       "      <th>source</th>\n",
       "      <th>english_sentence</th>\n",
       "      <th>hindi_sentence</th>\n",
       "    </tr>\n",
       "  </thead>\n",
       "  <tbody>\n",
       "    <tr>\n",
       "      <th>8527</th>\n",
       "      <td>tides</td>\n",
       "      <td>all kinds of back pain are a primary symptom o...</td>\n",
       "      <td>START_ सभी प्रकार का कमर दर्द इस रोग का प्रमुख...</td>\n",
       "    </tr>\n",
       "    <tr>\n",
       "      <th>52948</th>\n",
       "      <td>tides</td>\n",
       "      <td>early in march the mahatma served his historic...</td>\n",
       "      <td>START_ मार्च के प्रारंभ में महात्मा गांधी ने ब...</td>\n",
       "    </tr>\n",
       "    <tr>\n",
       "      <th>11574</th>\n",
       "      <td>ted</td>\n",
       "      <td>in cities in their own communities</td>\n",
       "      <td>START_ अपने शहरों और अपने ही देशों मे। _END</td>\n",
       "    </tr>\n",
       "    <tr>\n",
       "      <th>32922</th>\n",
       "      <td>ted</td>\n",
       "      <td>of hip hop artist william into their studio</td>\n",
       "      <td>START_ अपने स्टूडियो में हिप हॉप कलाकार विलइऍम...</td>\n",
       "    </tr>\n",
       "    <tr>\n",
       "      <th>92845</th>\n",
       "      <td>tides</td>\n",
       "      <td>this was a joint protest by the orthodox of bo...</td>\n",
       "      <td>START_ यह जुलूस दोनों धर्मों के कट्टरपंथियों क...</td>\n",
       "    </tr>\n",
       "  </tbody>\n",
       "</table>\n",
       "</div>"
      ],
      "text/plain": [
       "      source                                   english_sentence  \\\n",
       "8527   tides  all kinds of back pain are a primary symptom o...   \n",
       "52948  tides  early in march the mahatma served his historic...   \n",
       "11574    ted                 in cities in their own communities   \n",
       "32922    ted        of hip hop artist william into their studio   \n",
       "92845  tides  this was a joint protest by the orthodox of bo...   \n",
       "\n",
       "                                          hindi_sentence  \n",
       "8527   START_ सभी प्रकार का कमर दर्द इस रोग का प्रमुख...  \n",
       "52948  START_ मार्च के प्रारंभ में महात्मा गांधी ने ब...  \n",
       "11574        START_ अपने शहरों और अपने ही देशों मे। _END  \n",
       "32922  START_ अपने स्टूडियो में हिप हॉप कलाकार विलइऍम...  \n",
       "92845  START_ यह जुलूस दोनों धर्मों के कट्टरपंथियों क...  "
      ]
     },
     "execution_count": 58,
     "metadata": {},
     "output_type": "execute_result"
    }
   ],
   "source": [
    "lines.head()"
   ]
  },
  {
   "cell_type": "code",
   "execution_count": 59,
   "metadata": {},
   "outputs": [],
   "source": [
    "### Get English and Hindi Vocabulary\n",
    "all_eng_words=set()\n",
    "for eng in lines['english_sentence']:\n",
    "    for word in eng.split():\n",
    "        if word not in all_eng_words:\n",
    "            all_eng_words.add(word)\n",
    "\n",
    "all_hindi_words=set()\n",
    "for hin in lines['hindi_sentence']:\n",
    "    for word in hin.split():\n",
    "        if word not in all_hindi_words:\n",
    "            all_hindi_words.add(word)"
   ]
  },
  {
   "cell_type": "code",
   "execution_count": 60,
   "metadata": {},
   "outputs": [
    {
     "name": "stdout",
     "output_type": "stream",
     "text": [
      "Count of English Word :  38500\n",
      "Count of Hindi Word :  53008\n"
     ]
    }
   ],
   "source": [
    "print(\"Count of English Word : \",len(all_eng_words))\n",
    "print(\"Count of Hindi Word : \",len(all_hindi_words))"
   ]
  },
  {
   "cell_type": "code",
   "execution_count": 61,
   "metadata": {},
   "outputs": [],
   "source": [
    "lines['length_eng_sentence']=lines['english_sentence'].apply(lambda x:len(x.split(\" \")))\n",
    "lines['length_hin_sentence']=lines['hindi_sentence'].apply(lambda x:len(x.split(\" \")))"
   ]
  },
  {
   "cell_type": "code",
   "execution_count": 62,
   "metadata": {},
   "outputs": [
    {
     "data": {
      "text/html": [
       "<div>\n",
       "<style scoped>\n",
       "    .dataframe tbody tr th:only-of-type {\n",
       "        vertical-align: middle;\n",
       "    }\n",
       "\n",
       "    .dataframe tbody tr th {\n",
       "        vertical-align: top;\n",
       "    }\n",
       "\n",
       "    .dataframe thead th {\n",
       "        text-align: right;\n",
       "    }\n",
       "</style>\n",
       "<table border=\"1\" class=\"dataframe\">\n",
       "  <thead>\n",
       "    <tr style=\"text-align: right;\">\n",
       "      <th></th>\n",
       "      <th>source</th>\n",
       "      <th>english_sentence</th>\n",
       "      <th>hindi_sentence</th>\n",
       "      <th>length_eng_sentence</th>\n",
       "      <th>length_hin_sentence</th>\n",
       "    </tr>\n",
       "  </thead>\n",
       "  <tbody>\n",
       "    <tr>\n",
       "      <th>8527</th>\n",
       "      <td>tides</td>\n",
       "      <td>all kinds of back pain are a primary symptom o...</td>\n",
       "      <td>START_ सभी प्रकार का कमर दर्द इस रोग का प्रमुख...</td>\n",
       "      <td>24</td>\n",
       "      <td>27</td>\n",
       "    </tr>\n",
       "    <tr>\n",
       "      <th>52948</th>\n",
       "      <td>tides</td>\n",
       "      <td>early in march the mahatma served his historic...</td>\n",
       "      <td>START_ मार्च के प्रारंभ में महात्मा गांधी ने ब...</td>\n",
       "      <td>31</td>\n",
       "      <td>33</td>\n",
       "    </tr>\n",
       "    <tr>\n",
       "      <th>11574</th>\n",
       "      <td>ted</td>\n",
       "      <td>in cities in their own communities</td>\n",
       "      <td>START_ अपने शहरों और अपने ही देशों मे। _END</td>\n",
       "      <td>6</td>\n",
       "      <td>9</td>\n",
       "    </tr>\n",
       "    <tr>\n",
       "      <th>32922</th>\n",
       "      <td>ted</td>\n",
       "      <td>of hip hop artist william into their studio</td>\n",
       "      <td>START_ अपने स्टूडियो में हिप हॉप कलाकार विलइऍम...</td>\n",
       "      <td>8</td>\n",
       "      <td>10</td>\n",
       "    </tr>\n",
       "    <tr>\n",
       "      <th>92845</th>\n",
       "      <td>tides</td>\n",
       "      <td>this was a joint protest by the orthodox of bo...</td>\n",
       "      <td>START_ यह जुलूस दोनों धर्मों के कट्टरपंथियों क...</td>\n",
       "      <td>33</td>\n",
       "      <td>42</td>\n",
       "    </tr>\n",
       "  </tbody>\n",
       "</table>\n",
       "</div>"
      ],
      "text/plain": [
       "      source                                   english_sentence  \\\n",
       "8527   tides  all kinds of back pain are a primary symptom o...   \n",
       "52948  tides  early in march the mahatma served his historic...   \n",
       "11574    ted                 in cities in their own communities   \n",
       "32922    ted        of hip hop artist william into their studio   \n",
       "92845  tides  this was a joint protest by the orthodox of bo...   \n",
       "\n",
       "                                          hindi_sentence  length_eng_sentence  \\\n",
       "8527   START_ सभी प्रकार का कमर दर्द इस रोग का प्रमुख...                   24   \n",
       "52948  START_ मार्च के प्रारंभ में महात्मा गांधी ने ब...                   31   \n",
       "11574        START_ अपने शहरों और अपने ही देशों मे। _END                    6   \n",
       "32922  START_ अपने स्टूडियो में हिप हॉप कलाकार विलइऍम...                    8   \n",
       "92845  START_ यह जुलूस दोनों धर्मों के कट्टरपंथियों क...                   33   \n",
       "\n",
       "       length_hin_sentence  \n",
       "8527                    27  \n",
       "52948                   33  \n",
       "11574                    9  \n",
       "32922                   10  \n",
       "92845                   42  "
      ]
     },
     "execution_count": 62,
     "metadata": {},
     "output_type": "execute_result"
    }
   ],
   "source": [
    "lines.head()"
   ]
  },
  {
   "cell_type": "code",
   "execution_count": 63,
   "metadata": {},
   "outputs": [
    {
     "data": {
      "text/plain": [
       "(5187, 5)"
      ]
     },
     "execution_count": 63,
     "metadata": {},
     "output_type": "execute_result"
    }
   ],
   "source": [
    "lines[lines['length_eng_sentence']>30].shape"
   ]
  },
  {
   "cell_type": "code",
   "execution_count": 64,
   "metadata": {},
   "outputs": [],
   "source": [
    "lines=lines[lines['length_eng_sentence']<=20]\n",
    "lines=lines[lines['length_hin_sentence']<=20]"
   ]
  },
  {
   "cell_type": "code",
   "execution_count": 65,
   "metadata": {},
   "outputs": [
    {
     "data": {
      "text/plain": [
       "(32718, 5)"
      ]
     },
     "execution_count": 65,
     "metadata": {},
     "output_type": "execute_result"
    }
   ],
   "source": [
    "lines.shape"
   ]
  },
  {
   "cell_type": "code",
   "execution_count": 66,
   "metadata": {},
   "outputs": [
    {
     "name": "stdout",
     "output_type": "stream",
     "text": [
      "maximum length of Hindi Sentence  20\n",
      "maximum length of English Sentence  20\n"
     ]
    }
   ],
   "source": [
    "print(\"maximum length of Hindi Sentence \",max(lines['length_hin_sentence']))\n",
    "print(\"maximum length of English Sentence \",max(lines['length_eng_sentence']))"
   ]
  },
  {
   "cell_type": "code",
   "execution_count": 67,
   "metadata": {},
   "outputs": [],
   "source": [
    "max_length_src=max(lines['length_hin_sentence'])\n",
    "max_length_tar=max(lines['length_eng_sentence'])"
   ]
  },
  {
   "cell_type": "code",
   "execution_count": 68,
   "metadata": {},
   "outputs": [
    {
     "data": {
      "text/plain": [
       "(38500, 53008)"
      ]
     },
     "execution_count": 68,
     "metadata": {},
     "output_type": "execute_result"
    }
   ],
   "source": [
    "input_words = sorted(list(all_eng_words))\n",
    "target_words = sorted(list(all_hindi_words))\n",
    "num_encoder_tokens = len(all_eng_words)\n",
    "num_decoder_tokens = len(all_hindi_words)\n",
    "num_encoder_tokens, num_decoder_tokens"
   ]
  },
  {
   "cell_type": "code",
   "execution_count": 69,
   "metadata": {},
   "outputs": [],
   "source": [
    "num_decoder_tokens += 1 #for zero padding\n",
    "num_encoder_tokens = num_encoder_tokens + 1"
   ]
  },
  {
   "cell_type": "code",
   "execution_count": 70,
   "metadata": {},
   "outputs": [],
   "source": [
    "input_token_index = dict([(word, i+1) for i, word in enumerate(input_words)])\n",
    "target_token_index = dict([(word, i+1) for i, word in enumerate(target_words)])"
   ]
  },
  {
   "cell_type": "code",
   "execution_count": 71,
   "metadata": {},
   "outputs": [],
   "source": [
    "reverse_input_char_index = dict((i, word) for word, i in input_token_index.items())\n",
    "reverse_target_char_index = dict((i, word) for word, i in target_token_index.items())"
   ]
  },
  {
   "cell_type": "code",
   "execution_count": 72,
   "metadata": {},
   "outputs": [
    {
     "data": {
      "text/html": [
       "<div>\n",
       "<style scoped>\n",
       "    .dataframe tbody tr th:only-of-type {\n",
       "        vertical-align: middle;\n",
       "    }\n",
       "\n",
       "    .dataframe tbody tr th {\n",
       "        vertical-align: top;\n",
       "    }\n",
       "\n",
       "    .dataframe thead th {\n",
       "        text-align: right;\n",
       "    }\n",
       "</style>\n",
       "<table border=\"1\" class=\"dataframe\">\n",
       "  <thead>\n",
       "    <tr style=\"text-align: right;\">\n",
       "      <th></th>\n",
       "      <th>source</th>\n",
       "      <th>english_sentence</th>\n",
       "      <th>hindi_sentence</th>\n",
       "      <th>length_eng_sentence</th>\n",
       "      <th>length_hin_sentence</th>\n",
       "    </tr>\n",
       "  </thead>\n",
       "  <tbody>\n",
       "    <tr>\n",
       "      <th>118921</th>\n",
       "      <td>ted</td>\n",
       "      <td>take obiang junior well he didnt end up</td>\n",
       "      <td>START_ छोटे ओबीयांग को ही लीजिये। उनके पास _END</td>\n",
       "      <td>8</td>\n",
       "      <td>9</td>\n",
       "    </tr>\n",
       "    <tr>\n",
       "      <th>57328</th>\n",
       "      <td>ted</td>\n",
       "      <td>we just put a blind person in it and were done...</td>\n",
       "      <td>START_ हमे बस एक नेत्रहीन को चलाने देना है और ...</td>\n",
       "      <td>12</td>\n",
       "      <td>15</td>\n",
       "    </tr>\n",
       "    <tr>\n",
       "      <th>123120</th>\n",
       "      <td>ted</td>\n",
       "      <td>percent of the family income is just to cover ...</td>\n",
       "      <td>START_ प्रतिशत पारिवारिक कमाई केवल बिजली और _END</td>\n",
       "      <td>12</td>\n",
       "      <td>8</td>\n",
       "    </tr>\n",
       "    <tr>\n",
       "      <th>120978</th>\n",
       "      <td>ted</td>\n",
       "      <td>we probably cant do a lot for you with these t...</td>\n",
       "      <td>START_ तो शायद हम इन उपचारो से आप के लिए कुछ अ...</td>\n",
       "      <td>11</td>\n",
       "      <td>16</td>\n",
       "    </tr>\n",
       "    <tr>\n",
       "      <th>52580</th>\n",
       "      <td>ted</td>\n",
       "      <td>we did a study a scientifically designed process</td>\n",
       "      <td>START_ हमने एक अध्ययन किया वैज्ञानिक पद्धति से...</td>\n",
       "      <td>8</td>\n",
       "      <td>9</td>\n",
       "    </tr>\n",
       "    <tr>\n",
       "      <th>94496</th>\n",
       "      <td>tides</td>\n",
       "      <td>that leads us of course to consider what is re...</td>\n",
       "      <td>START_ इसलिए यहां निश्चय ही सोचने की बात यह है...</td>\n",
       "      <td>12</td>\n",
       "      <td>17</td>\n",
       "    </tr>\n",
       "    <tr>\n",
       "      <th>40885</th>\n",
       "      <td>ted</td>\n",
       "      <td>fully half are no longer being whispered into ...</td>\n",
       "      <td>START_ बैठकर देख सकते हैं कि उन भाषाओं में से ...</td>\n",
       "      <td>12</td>\n",
       "      <td>14</td>\n",
       "    </tr>\n",
       "    <tr>\n",
       "      <th>46684</th>\n",
       "      <td>ted</td>\n",
       "      <td>only after meeting your physiological needs an...</td>\n",
       "      <td>START_ केवल जब आप अपनी शारीरिक और आर्थिक ज़रूर...</td>\n",
       "      <td>9</td>\n",
       "      <td>13</td>\n",
       "    </tr>\n",
       "    <tr>\n",
       "      <th>115965</th>\n",
       "      <td>ted</td>\n",
       "      <td>ive been intrigued by this question</td>\n",
       "      <td>START_ मैं इस सवाल को लेकर अचंभे में हूं _END</td>\n",
       "      <td>6</td>\n",
       "      <td>10</td>\n",
       "    </tr>\n",
       "    <tr>\n",
       "      <th>23993</th>\n",
       "      <td>ted</td>\n",
       "      <td>blue means theyre working on it no need to worry</td>\n",
       "      <td>START_ नीले रंग का मतलब है कि वो सीख रहा है चि...</td>\n",
       "      <td>10</td>\n",
       "      <td>18</td>\n",
       "    </tr>\n",
       "  </tbody>\n",
       "</table>\n",
       "</div>"
      ],
      "text/plain": [
       "       source                                   english_sentence  \\\n",
       "118921    ted            take obiang junior well he didnt end up   \n",
       "57328     ted  we just put a blind person in it and were done...   \n",
       "123120    ted  percent of the family income is just to cover ...   \n",
       "120978    ted  we probably cant do a lot for you with these t...   \n",
       "52580     ted   we did a study a scientifically designed process   \n",
       "94496   tides  that leads us of course to consider what is re...   \n",
       "40885     ted  fully half are no longer being whispered into ...   \n",
       "46684     ted  only after meeting your physiological needs an...   \n",
       "115965    ted                ive been intrigued by this question   \n",
       "23993     ted   blue means theyre working on it no need to worry   \n",
       "\n",
       "                                           hindi_sentence  \\\n",
       "118921    START_ छोटे ओबीयांग को ही लीजिये। उनके पास _END   \n",
       "57328   START_ हमे बस एक नेत्रहीन को चलाने देना है और ...   \n",
       "123120   START_ प्रतिशत पारिवारिक कमाई केवल बिजली और _END   \n",
       "120978  START_ तो शायद हम इन उपचारो से आप के लिए कुछ अ...   \n",
       "52580   START_ हमने एक अध्ययन किया वैज्ञानिक पद्धति से...   \n",
       "94496   START_ इसलिए यहां निश्चय ही सोचने की बात यह है...   \n",
       "40885   START_ बैठकर देख सकते हैं कि उन भाषाओं में से ...   \n",
       "46684   START_ केवल जब आप अपनी शारीरिक और आर्थिक ज़रूर...   \n",
       "115965      START_ मैं इस सवाल को लेकर अचंभे में हूं _END   \n",
       "23993   START_ नीले रंग का मतलब है कि वो सीख रहा है चि...   \n",
       "\n",
       "        length_eng_sentence  length_hin_sentence  \n",
       "118921                    8                    9  \n",
       "57328                    12                   15  \n",
       "123120                   12                    8  \n",
       "120978                   11                   16  \n",
       "52580                     8                    9  \n",
       "94496                    12                   17  \n",
       "40885                    12                   14  \n",
       "46684                     9                   13  \n",
       "115965                    6                   10  \n",
       "23993                    10                   18  "
      ]
     },
     "execution_count": 72,
     "metadata": {},
     "output_type": "execute_result"
    }
   ],
   "source": [
    "lines = shuffle(lines)\n",
    "lines.head(10)"
   ]
  },
  {
   "cell_type": "markdown",
   "metadata": {},
   "source": [
    "## Split the data into train and test"
   ]
  },
  {
   "cell_type": "code",
   "execution_count": 73,
   "metadata": {},
   "outputs": [
    {
     "data": {
      "text/plain": [
       "((26174,), (6544,))"
      ]
     },
     "execution_count": 73,
     "metadata": {},
     "output_type": "execute_result"
    }
   ],
   "source": [
    "X, y = lines['english_sentence'], lines['hindi_sentence']\n",
    "X_train, X_test, y_train, y_test = train_test_split(X, y, test_size = 0.2,random_state=42)\n",
    "X_train.shape, X_test.shape"
   ]
  },
  {
   "cell_type": "code",
   "execution_count": 74,
   "metadata": {},
   "outputs": [],
   "source": [
    "## Let us save this data\n",
    "X_train.to_pickle('X_train.pkl')\n",
    "X_test.to_pickle('X_test.pkl')"
   ]
  },
  {
   "cell_type": "code",
   "execution_count": 75,
   "metadata": {},
   "outputs": [],
   "source": [
    "def generate_batch(X = X_train, y = y_train, batch_size = 128):\n",
    "    ''' Generate a batch of data '''\n",
    "    while True:\n",
    "        for j in range(0, len(X), batch_size):\n",
    "            encoder_input_data = np.zeros((batch_size, max_length_src),dtype='float32')\n",
    "            decoder_input_data = np.zeros((batch_size, max_length_tar),dtype='float32')\n",
    "            decoder_target_data = np.zeros((batch_size, max_length_tar, num_decoder_tokens),dtype='float32')\n",
    "            for i, (input_text, target_text) in enumerate(zip(X[j:j+batch_size], y[j:j+batch_size])):\n",
    "                for t, word in enumerate(input_text.split()):\n",
    "                    encoder_input_data[i, t] = input_token_index[word] # encoder input seq\n",
    "                for t, word in enumerate(target_text.split()):\n",
    "                    if t<len(target_text.split())-1:\n",
    "                        decoder_input_data[i, t] = target_token_index[word] # decoder input seq\n",
    "                    if t>0:\n",
    "                        # decoder target sequence (one hot encoded)\n",
    "                        # does not include the START_ token\n",
    "                        # Offset by one timestep\n",
    "                        decoder_target_data[i, t - 1, target_token_index[word]] = 1.\n",
    "            yield([encoder_input_data, decoder_input_data], decoder_target_data)"
   ]
  },
  {
   "cell_type": "markdown",
   "metadata": {},
   "source": [
    "## Encoder-Decoder Architecture"
   ]
  },
  {
   "cell_type": "code",
   "execution_count": 76,
   "metadata": {},
   "outputs": [],
   "source": [
    "latent_dim = 300"
   ]
  },
  {
   "cell_type": "code",
   "execution_count": 77,
   "metadata": {},
   "outputs": [],
   "source": [
    "# Encoder\n",
    "encoder_inputs = Input(shape=(None,))\n",
    "enc_emb =  Embedding(num_encoder_tokens, latent_dim, mask_zero = True)(encoder_inputs)\n",
    "encoder_lstm = LSTM(latent_dim, return_state=True)\n",
    "encoder_outputs, state_h, state_c = encoder_lstm(enc_emb)\n",
    "# We discard `encoder_outputs` and only keep the states.\n",
    "encoder_states = [state_h, state_c]"
   ]
  },
  {
   "cell_type": "code",
   "execution_count": 78,
   "metadata": {},
   "outputs": [],
   "source": [
    "# Set up the decoder, using `encoder_states` as initial state.\n",
    "decoder_inputs = Input(shape=(None,))\n",
    "dec_emb_layer = Embedding(num_decoder_tokens, latent_dim, mask_zero = True)\n",
    "dec_emb = dec_emb_layer(decoder_inputs)\n",
    "# We set up our decoder to return full output sequences,\n",
    "# and to return internal states as well. We don't use the\n",
    "# return states in the training model, but we will use them in inference.\n",
    "decoder_lstm = LSTM(latent_dim, return_sequences=True, return_state=True)\n",
    "decoder_outputs, _, _ = decoder_lstm(dec_emb,initial_state=encoder_states)\n",
    "decoder_dense = Dense(num_decoder_tokens, activation='softmax')\n",
    "decoder_outputs = decoder_dense(decoder_outputs)\n",
    "\n",
    "# Define the model that will turn\n",
    "# `encoder_input_data` & `decoder_input_data` into `decoder_target_data`\n",
    "model = Model([encoder_inputs, decoder_inputs], decoder_outputs)"
   ]
  },
  {
   "cell_type": "code",
   "execution_count": 79,
   "metadata": {},
   "outputs": [],
   "source": [
    "model.compile(optimizer='rmsprop', loss='categorical_crossentropy')"
   ]
  },
  {
   "cell_type": "code",
   "execution_count": 80,
   "metadata": {},
   "outputs": [
    {
     "name": "stdout",
     "output_type": "stream",
     "text": [
      "Model: \"model_1\"\n",
      "__________________________________________________________________________________________________\n",
      " Layer (type)                   Output Shape         Param #     Connected to                     \n",
      "==================================================================================================\n",
      " input_3 (InputLayer)           [(None, None)]       0           []                               \n",
      "                                                                                                  \n",
      " input_4 (InputLayer)           [(None, None)]       0           []                               \n",
      "                                                                                                  \n",
      " embedding_2 (Embedding)        (None, None, 300)    11550300    ['input_3[0][0]']                \n",
      "                                                                                                  \n",
      " embedding_3 (Embedding)        (None, None, 300)    15902700    ['input_4[0][0]']                \n",
      "                                                                                                  \n",
      " lstm_2 (LSTM)                  [(None, 300),        721200      ['embedding_2[0][0]']            \n",
      "                                 (None, 300),                                                     \n",
      "                                 (None, 300)]                                                     \n",
      "                                                                                                  \n",
      " lstm_3 (LSTM)                  [(None, None, 300),  721200      ['embedding_3[0][0]',            \n",
      "                                 (None, 300),                     'lstm_2[0][1]',                 \n",
      "                                 (None, 300)]                     'lstm_2[0][2]']                 \n",
      "                                                                                                  \n",
      " dense_1 (Dense)                (None, None, 53009)  15955709    ['lstm_3[0][0]']                 \n",
      "                                                                                                  \n",
      "==================================================================================================\n",
      "Total params: 44,851,109\n",
      "Trainable params: 44,851,109\n",
      "Non-trainable params: 0\n",
      "__________________________________________________________________________________________________\n"
     ]
    }
   ],
   "source": [
    "model.summary()"
   ]
  },
  {
   "cell_type": "markdown",
   "metadata": {},
   "source": [
    "## Model Training"
   ]
  },
  {
   "cell_type": "code",
   "execution_count": 81,
   "metadata": {},
   "outputs": [],
   "source": [
    "train_samples = len(X_train)\n",
    "val_samples = len(X_test)\n",
    "batch_size = 128\n",
    "epochs = 50"
   ]
  },
  {
   "cell_type": "code",
   "execution_count": 82,
   "metadata": {},
   "outputs": [
    {
     "name": "stderr",
     "output_type": "stream",
     "text": [
      "/home/sunil/sunil2_env/lib/python3.7/site-packages/ipykernel_launcher.py:5: UserWarning: `Model.fit_generator` is deprecated and will be removed in a future version. Please use `Model.fit`, which supports generators.\n",
      "  \"\"\"\n"
     ]
    },
    {
     "name": "stdout",
     "output_type": "stream",
     "text": [
      "Epoch 1/50\n",
      "204/204 [==============================] - 747s 4s/step - loss: 7.4448 - val_loss: 6.8374\n",
      "Epoch 2/50\n",
      "204/204 [==============================] - 766s 4s/step - loss: 6.7709 - val_loss: 6.7834\n",
      "Epoch 3/50\n",
      "204/204 [==============================] - 744s 4s/step - loss: 6.7218 - val_loss: 6.7640\n",
      "Epoch 4/50\n",
      "204/204 [==============================] - 772s 4s/step - loss: 6.6976 - val_loss: 6.7643\n",
      "Epoch 5/50\n",
      "204/204 [==============================] - 920s 5s/step - loss: 6.6802 - val_loss: 6.7524\n",
      "Epoch 6/50\n",
      "204/204 [==============================] - 951s 5s/step - loss: 6.6658 - val_loss: 6.7433\n",
      "Epoch 7/50\n",
      "204/204 [==============================] - 921s 5s/step - loss: 6.6369 - val_loss: 6.6922\n",
      "Epoch 8/50\n",
      "204/204 [==============================] - 918s 5s/step - loss: 6.5633 - val_loss: 6.6082\n",
      "Epoch 9/50\n",
      "204/204 [==============================] - 938s 5s/step - loss: 6.4767 - val_loss: 6.5384\n",
      "Epoch 10/50\n",
      "204/204 [==============================] - 952s 5s/step - loss: 6.4022 - val_loss: 6.4709\n",
      "Epoch 11/50\n",
      "204/204 [==============================] - 918s 5s/step - loss: 6.3315 - val_loss: 6.4112\n",
      "Epoch 12/50\n",
      "204/204 [==============================] - 917s 4s/step - loss: 6.2628 - val_loss: 6.3528\n",
      "Epoch 13/50\n",
      "204/204 [==============================] - 947s 5s/step - loss: 6.1944 - val_loss: 6.2956\n",
      "Epoch 14/50\n",
      "204/204 [==============================] - 771s 4s/step - loss: 6.1326 - val_loss: 6.2508\n",
      "Epoch 15/50\n",
      "204/204 [==============================] - 714s 4s/step - loss: 6.0743 - val_loss: 6.2126\n",
      "Epoch 16/50\n",
      "204/204 [==============================] - 720s 4s/step - loss: 6.0218 - val_loss: 6.1659\n",
      "Epoch 17/50\n",
      "204/204 [==============================] - 754s 4s/step - loss: 5.9689 - val_loss: 6.1455\n",
      "Epoch 18/50\n",
      "204/204 [==============================] - 703s 3s/step - loss: 5.9183 - val_loss: 6.0926\n",
      "Epoch 19/50\n",
      "204/204 [==============================] - 726s 4s/step - loss: 5.8692 - val_loss: 6.0644\n",
      "Epoch 20/50\n",
      "204/204 [==============================] - 737s 4s/step - loss: 5.8258 - val_loss: 6.0585\n",
      "Epoch 21/50\n",
      "204/204 [==============================] - 739s 4s/step - loss: 5.7827 - val_loss: 6.0196\n",
      "Epoch 22/50\n",
      "204/204 [==============================] - 727s 4s/step - loss: 5.7437 - val_loss: 5.9972\n",
      "Epoch 23/50\n",
      "204/204 [==============================] - 728s 4s/step - loss: 5.7043 - val_loss: 5.9771\n",
      "Epoch 24/50\n",
      "204/204 [==============================] - 753s 4s/step - loss: 5.6679 - val_loss: 5.9501\n",
      "Epoch 25/50\n",
      "204/204 [==============================] - 733s 4s/step - loss: 5.6325 - val_loss: 5.9292\n",
      "Epoch 26/50\n",
      "204/204 [==============================] - 790s 4s/step - loss: 5.5984 - val_loss: 5.9144\n",
      "Epoch 27/50\n",
      "204/204 [==============================] - 883s 4s/step - loss: 5.5644 - val_loss: 5.9047\n",
      "Epoch 28/50\n",
      "204/204 [==============================] - 1024s 5s/step - loss: 5.5308 - val_loss: 5.8813\n",
      "Epoch 29/50\n",
      "204/204 [==============================] - 928s 5s/step - loss: 5.4991 - val_loss: 5.8730\n",
      "Epoch 30/50\n",
      "204/204 [==============================] - 979s 5s/step - loss: 5.4683 - val_loss: 5.8663\n",
      "Epoch 31/50\n",
      "204/204 [==============================] - 908s 4s/step - loss: 5.4364 - val_loss: 5.8574\n",
      "Epoch 32/50\n",
      "204/204 [==============================] - 970s 5s/step - loss: 5.4060 - val_loss: 5.8393\n",
      "Epoch 33/50\n",
      "204/204 [==============================] - 920s 5s/step - loss: 5.3763 - val_loss: 5.8115\n",
      "Epoch 34/50\n",
      "204/204 [==============================] - 925s 5s/step - loss: 5.3458 - val_loss: 5.8117\n",
      "Epoch 35/50\n",
      "204/204 [==============================] - 931s 5s/step - loss: 5.3155 - val_loss: 5.7973\n",
      "Epoch 36/50\n",
      "204/204 [==============================] - 958s 5s/step - loss: 5.2849 - val_loss: 5.7872\n",
      "Epoch 37/50\n",
      "204/204 [==============================] - 928s 5s/step - loss: 5.2542 - val_loss: 5.7711\n",
      "Epoch 38/50\n",
      "204/204 [==============================] - 982s 5s/step - loss: 5.2239 - val_loss: 5.7603\n",
      "Epoch 39/50\n",
      "204/204 [==============================] - 938s 5s/step - loss: 5.1926 - val_loss: 5.7638\n",
      "Epoch 40/50\n",
      "204/204 [==============================] - 960s 5s/step - loss: 5.1604 - val_loss: 5.7465\n",
      "Epoch 41/50\n",
      "204/204 [==============================] - 983s 5s/step - loss: 5.1285 - val_loss: 5.7342\n",
      "Epoch 42/50\n",
      "204/204 [==============================] - 918s 5s/step - loss: 5.0978 - val_loss: 5.7160\n",
      "Epoch 43/50\n",
      "204/204 [==============================] - 941s 5s/step - loss: 5.0648 - val_loss: 5.7226\n",
      "Epoch 44/50\n",
      "204/204 [==============================] - 958s 5s/step - loss: 5.0334 - val_loss: 5.7103\n",
      "Epoch 45/50\n",
      "204/204 [==============================] - 980s 5s/step - loss: 5.0013 - val_loss: 5.6911\n",
      "Epoch 46/50\n",
      "204/204 [==============================] - 923s 5s/step - loss: 4.9698 - val_loss: 5.6902\n",
      "Epoch 47/50\n",
      "204/204 [==============================] - 943s 5s/step - loss: 4.9373 - val_loss: 5.6795\n",
      "Epoch 48/50\n",
      "204/204 [==============================] - 1010s 5s/step - loss: 4.9054 - val_loss: 5.6735\n",
      "Epoch 49/50\n",
      "204/204 [==============================] - 923s 5s/step - loss: 4.8737 - val_loss: 5.6719\n",
      "Epoch 50/50\n",
      "204/204 [==============================] - 926s 5s/step - loss: 4.8412 - val_loss: 5.6594\n",
      "CPU times: user 4d 3h 49min 56s, sys: 15h 38min 9s, total: 4d 19h 28min 5s\n",
      "Wall time: 12h 9min 11s\n"
     ]
    }
   ],
   "source": [
    "%%time\n",
    "history = model.fit_generator(generator = generate_batch(X_train, y_train, batch_size = batch_size),\n",
    "                    steps_per_epoch = train_samples//batch_size,\n",
    "                    epochs=epochs,\n",
    "                    validation_data = generate_batch(X_test, y_test, batch_size = batch_size),\n",
    "                    validation_steps = val_samples//batch_size)"
   ]
  },
  {
   "cell_type": "code",
   "execution_count": 92,
   "metadata": {},
   "outputs": [],
   "source": [
    "model.save_weights('nmt_weights3_50.h5')"
   ]
  },
  {
   "cell_type": "code",
   "execution_count": 93,
   "metadata": {},
   "outputs": [
    {
     "data": {
      "image/png": "[encoded data removed]",
      "text/plain": [
       "<Figure size 640x480 with 1 Axes>"
      ]
     },
     "metadata": {},
     "output_type": "display_data"
    }
   ],
   "source": [
    "# Get the training and validation loss values\n",
    "training_loss = history.history['loss']\n",
    "validation_loss = history.history['val_loss']\n",
    "\n",
    "# Plot the loss curve\n",
    "epochs = range(1, len(training_loss) + 1)\n",
    "plt.plot(epochs, training_loss, 'b', label='Training Loss')\n",
    "plt.plot(epochs, validation_loss, 'r', label='Validation Loss')\n",
    "plt.title('Training and Validation Loss')\n",
    "plt.xlabel('Epochs')\n",
    "plt.ylabel('Loss')\n",
    "plt.legend()\n",
    "plt.show()"
   ]
  },
  {
   "cell_type": "code",
   "execution_count": 113,
   "metadata": {},
   "outputs": [],
   "source": [
    "model.save('MT_Eng_Hindi_50.3.h5')"
   ]
  },
  {
   "cell_type": "code",
   "execution_count": 101,
   "metadata": {},
   "outputs": [],
   "source": [
    "# Encode the input sequence to get the \"thought vectors\"\n",
    "encoder_model = Model(encoder_inputs, encoder_states)\n",
    "\n",
    "# Decoder setup\n",
    "# Below tensors will hold the states of the previous time step\n",
    "decoder_state_input_h = Input(shape=(latent_dim,))\n",
    "decoder_state_input_c = Input(shape=(latent_dim,))\n",
    "decoder_states_inputs = [decoder_state_input_h, decoder_state_input_c]\n",
    "\n",
    "dec_emb2= dec_emb_layer(decoder_inputs) # Get the embeddings of the decoder sequence\n",
    "\n",
    "# To predict the next word in the sequence, set the initial states to the states from the previous time step\n",
    "decoder_outputs2, state_h2, state_c2 = decoder_lstm(dec_emb2, initial_state=decoder_states_inputs)\n",
    "decoder_states2 = [state_h2, state_c2]\n",
    "decoder_outputs2 = decoder_dense(decoder_outputs2) # A dense softmax layer to generate prob dist. over the target vocabulary\n",
    "\n",
    "# Final decoder model\n",
    "decoder_model = Model(\n",
    "    [decoder_inputs] + decoder_states_inputs,\n",
    "    [decoder_outputs2] + decoder_states2)"
   ]
  },
  {
   "cell_type": "code",
   "execution_count": 102,
   "metadata": {},
   "outputs": [],
   "source": [
    "def decode_sequence(input_seq):\n",
    "    # Encode the input as state vectors.\n",
    "    states_value = encoder_model.predict(input_seq)\n",
    "    # Generate empty target sequence of length 1.\n",
    "    target_seq = np.zeros((1,1))\n",
    "    # Populate the first character of target sequence with the start character.\n",
    "    target_seq[0, 0] = target_token_index['START_']\n",
    "\n",
    "    # Sampling loop for a batch of sequences\n",
    "    # (to simplify, here we assume a batch of size 1).\n",
    "    stop_condition = False\n",
    "    decoded_sentence = ''\n",
    "    while not stop_condition:\n",
    "        output_tokens, h, c = decoder_model.predict([target_seq] + states_value)\n",
    "\n",
    "        # Sample a token\n",
    "        sampled_token_index = np.argmax(output_tokens[0, -1, :])\n",
    "        sampled_char = reverse_target_char_index[sampled_token_index]\n",
    "        decoded_sentence += ' '+sampled_char\n",
    "\n",
    "        # Exit condition: either hit max length\n",
    "        # or find stop character.\n",
    "        if (sampled_char == '_END' or\n",
    "           len(decoded_sentence) > 50):\n",
    "            stop_condition = True\n",
    "\n",
    "        # Update the target sequence (of length 1).\n",
    "        target_seq = np.zeros((1,1))\n",
    "        target_seq[0, 0] = sampled_token_index\n",
    "\n",
    "        # Update states\n",
    "        states_value = [h, c]\n",
    "\n",
    "    return decoded_sentence"
   ]
  },
  {
   "cell_type": "markdown",
   "metadata": {},
   "source": [
    "## BLEU Score Calculation"
   ]
  },
  {
   "cell_type": "code",
   "execution_count": 105,
   "metadata": {},
   "outputs": [],
   "source": [
    "import sacrebleu\n",
    "def calculate_bleu(reference, hypothesis):\n",
    "    bleu = sacrebleu.corpus_bleu(hypothesis, [reference])\n",
    "     # Print the BLEU score\n",
    "    x = bleu.score/100\n",
    "    print(\"BLEU Score:\",x) "
   ]
  },
  {
   "cell_type": "markdown",
   "metadata": {},
   "source": [
    "## Machine Translation Testing"
   ]
  },
  {
   "cell_type": "code",
   "execution_count": null,
   "metadata": {},
   "outputs": [],
   "source": [
    "train_gen = generate_batch(X_train, y_train, batch_size = 1)\n",
    "k=-1"
   ]
  },
  {
   "cell_type": "code",
   "execution_count": 106,
   "metadata": {},
   "outputs": [
    {
     "name": "stdout",
     "output_type": "stream",
     "text": [
      "1/1 [==============================] - 0s 30ms/step\n",
      "1/1 [==============================] - 0s 33ms/step\n",
      "1/1 [==============================] - 0s 34ms/step\n",
      "1/1 [==============================] - 0s 34ms/step\n",
      "1/1 [==============================] - 0s 34ms/step\n",
      "1/1 [==============================] - 0s 33ms/step\n",
      "1/1 [==============================] - 0s 33ms/step\n",
      "1/1 [==============================] - 0s 34ms/step\n",
      "1/1 [==============================] - 0s 33ms/step\n",
      "1/1 [==============================] - 0s 34ms/step\n",
      "1/1 [==============================] - 0s 33ms/step\n",
      "1/1 [==============================] - 0s 35ms/step\n",
      "1/1 [==============================] - 0s 33ms/step\n",
      "Input English sentence: it has an app a web and mobile app\n",
      "Actual Hindi Translation: [' बोस्टन में एक एप्प है जो वेब और मोबाइल फ़ोन के लिए अनुप्रयोग है ']\n",
      "Predicted Hindi Translation: [' यह एक ही एक और एक और एक ही बात की ']\n",
      "BLEU Score: 0.03393026569182827\n"
     ]
    }
   ],
   "source": [
    "k+=1\n",
    "(input_seq, actual_output), _ = next(train_gen)\n",
    "decoded_sentence = decode_sequence(input_seq)\n",
    "print('Input English sentence:', X_train[k:k+1].values[0])\n",
    "reference = y_train[k:k+1].values[0][6:-4]\n",
    "reference = [reference]\n",
    "print('Actual Hindi Translation:', reference)\n",
    "predicted = decoded_sentence[:-4]\n",
    "predicted = [predicted]\n",
    "print('Predicted Hindi Translation:', predicted)\n",
    "calculate_bleu(reference, predicted)"
   ]
  },
  {
   "cell_type": "code",
   "execution_count": 109,
   "metadata": {},
   "outputs": [
    {
     "name": "stdout",
     "output_type": "stream",
     "text": [
      "1/1 [==============================] - 0s 32ms/step\n",
      "1/1 [==============================] - 0s 47ms/step\n",
      "1/1 [==============================] - 0s 35ms/step\n",
      "1/1 [==============================] - 0s 34ms/step\n",
      "1/1 [==============================] - 0s 34ms/step\n",
      "1/1 [==============================] - 0s 34ms/step\n",
      "1/1 [==============================] - 0s 34ms/step\n",
      "1/1 [==============================] - 0s 35ms/step\n",
      "1/1 [==============================] - 0s 35ms/step\n",
      "1/1 [==============================] - 0s 34ms/step\n",
      "Input English sentence: they roam about widely in search of food\n",
      "Actual Hindi Translation: [' इस जाति के पक्षी भोजन की खोज में दूर दूर तक घूमते हैं ']\n",
      "Predicted Hindi Translation: [' वे से अधिक अलग अलग हो जाते हैं ']\n",
      "BLEU Score: 0.029559265264674433\n"
     ]
    }
   ],
   "source": [
    "k+=1\n",
    "(input_seq, actual_output), _ = next(train_gen)\n",
    "decoded_sentence = decode_sequence(input_seq)\n",
    "print('Input English sentence:', X_train[k:k+1].values[0])\n",
    "reference = y_train[k:k+1].values[0][6:-4]\n",
    "reference = [reference]\n",
    "print('Actual Hindi Translation:', reference)\n",
    "predicted = decoded_sentence[:-4]\n",
    "predicted = [predicted]\n",
    "print('Predicted Hindi Translation:', predicted)\n",
    "calculate_bleu(reference, predicted)"
   ]
  },
  {
   "cell_type": "code",
   "execution_count": 110,
   "metadata": {},
   "outputs": [
    {
     "name": "stdout",
     "output_type": "stream",
     "text": [
      "1/1 [==============================] - 0s 28ms/step\n",
      "1/1 [==============================] - 0s 34ms/step\n",
      "1/1 [==============================] - 0s 34ms/step\n",
      "1/1 [==============================] - 0s 34ms/step\n",
      "1/1 [==============================] - 0s 35ms/step\n",
      "1/1 [==============================] - 0s 34ms/step\n",
      "1/1 [==============================] - 0s 35ms/step\n",
      "1/1 [==============================] - 0s 36ms/step\n",
      "1/1 [==============================] - 0s 35ms/step\n",
      "1/1 [==============================] - 0s 34ms/step\n",
      "1/1 [==============================] - 0s 34ms/step\n",
      "Input English sentence: it was about tons in other countries of the british empire\n",
      "Actual Hindi Translation: [' ब्रिटिश साम्राज्य के अन्य देशों में यह लगभग टन थी ']\n",
      "Predicted Hindi Translation: [' इस प्रकार की उम्र में भारत में भी थे ']\n",
      "BLEU Score: 0.04266331692956901\n"
     ]
    }
   ],
   "source": [
    "k+=1\n",
    "(input_seq, actual_output), _ = next(train_gen)\n",
    "decoded_sentence = decode_sequence(input_seq)\n",
    "print('Input English sentence:', X_train[k:k+1].values[0])\n",
    "reference = y_train[k:k+1].values[0][6:-4]\n",
    "reference = [reference]\n",
    "print('Actual Hindi Translation:', reference)\n",
    "predicted = decoded_sentence[:-4]\n",
    "predicted = [predicted]\n",
    "print('Predicted Hindi Translation:', predicted)\n",
    "calculate_bleu(reference, predicted)"
   ]
  },
  {
   "cell_type": "code",
   "execution_count": 111,
   "metadata": {},
   "outputs": [
    {
     "name": "stdout",
     "output_type": "stream",
     "text": [
      "1/1 [==============================] - 0s 28ms/step\n",
      "1/1 [==============================] - 0s 34ms/step\n",
      "1/1 [==============================] - 0s 31ms/step\n",
      "1/1 [==============================] - 0s 36ms/step\n",
      "1/1 [==============================] - 0s 35ms/step\n",
      "1/1 [==============================] - 0s 35ms/step\n",
      "1/1 [==============================] - 0s 46ms/step\n",
      "1/1 [==============================] - 0s 33ms/step\n",
      "1/1 [==============================] - 0s 34ms/step\n",
      "1/1 [==============================] - 0s 34ms/step\n",
      "1/1 [==============================] - 0s 34ms/step\n",
      "Input English sentence: is that india will be the only country in the world\n",
      "Actual Hindi Translation: [' कि भारत दुनिया में अकेला देश होगा ']\n",
      "Predicted Hindi Translation: [' यह एक ही है कि इस प्रकार के लिए ']\n",
      "BLEU Score: 0.04767707020457095\n"
     ]
    }
   ],
   "source": [
    "k+=1\n",
    "(input_seq, actual_output), _ = next(train_gen)\n",
    "decoded_sentence = decode_sequence(input_seq)\n",
    "print('Input English sentence:', X_train[k:k+1].values[0])\n",
    "reference = y_train[k:k+1].values[0][6:-4]\n",
    "reference = [reference]\n",
    "print('Actual Hindi Translation:', reference)\n",
    "predicted = decoded_sentence[:-4]\n",
    "predicted = [predicted]\n",
    "print('Predicted Hindi Translation:', predicted)\n",
    "calculate_bleu(reference, predicted)"
   ]
  },
  {
   "cell_type": "code",
   "execution_count": null,
   "metadata": {},
   "outputs": [],
   "source": []
  }
 ],
 "metadata": {
  "kernelspec": {
   "display_name": "Python 3 (ipykernel)",
   "language": "python",
   "name": "python3"
  },
  "language_info": {
   "codemirror_mode": {
    "name": "ipython",
    "version": 3
   },
   "file_extension": ".py",
   "mimetype": "text/x-python",
   "name": "python",
   "nbconvert_exporter": "python",
   "pygments_lexer": "ipython3",
   "version": "3.7.6"
  }
 },
 "nbformat": 4,
 "nbformat_minor": 4
}

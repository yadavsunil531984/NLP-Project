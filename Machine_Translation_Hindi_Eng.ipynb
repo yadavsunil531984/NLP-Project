{
 "cells": [
  {
   "cell_type": "markdown",
   "metadata": {},
   "source": [
    "## Import Library"
   ]
  },
  {
   "cell_type": "raw",
   "metadata": {},
   "source": [
    "https://www.kaggle.com/code/aiswaryaramachandran/english-to-hindi-neural-machine-translation"
   ]
  },
  {
   "cell_type": "code",
   "execution_count": 1,
   "metadata": {},
   "outputs": [
    {
     "name": "stderr",
     "output_type": "stream",
     "text": [
      "2023-05-21 14:09:55.749527: I tensorflow/core/platform/cpu_feature_guard.cc:193] This TensorFlow binary is optimized with oneAPI Deep Neural Network Library (oneDNN) to use the following CPU instructions in performance-critical operations:  AVX2 AVX512F FMA\n",
      "To enable them in other operations, rebuild TensorFlow with the appropriate compiler flags.\n",
      "2023-05-21 14:09:55.916084: W tensorflow/compiler/xla/stream_executor/platform/default/dso_loader.cc:64] Could not load dynamic library 'libcudart.so.11.0'; dlerror: libcudart.so.11.0: cannot open shared object file: No such file or directory\n",
      "2023-05-21 14:09:55.916118: I tensorflow/compiler/xla/stream_executor/cuda/cudart_stub.cc:29] Ignore above cudart dlerror if you do not have a GPU set up on your machine.\n",
      "2023-05-21 14:09:56.674957: W tensorflow/compiler/xla/stream_executor/platform/default/dso_loader.cc:64] Could not load dynamic library 'libnvinfer.so.7'; dlerror: libnvinfer.so.7: cannot open shared object file: No such file or directory\n",
      "2023-05-21 14:09:56.675042: W tensorflow/compiler/xla/stream_executor/platform/default/dso_loader.cc:64] Could not load dynamic library 'libnvinfer_plugin.so.7'; dlerror: libnvinfer_plugin.so.7: cannot open shared object file: No such file or directory\n",
      "2023-05-21 14:09:56.675052: W tensorflow/compiler/tf2tensorrt/utils/py_utils.cc:38] TF-TRT Warning: Cannot dlopen some TensorRT libraries. If you would like to use Nvidia GPU with TensorRT, please make sure the missing libraries mentioned above are installed properly.\n"
     ]
    }
   ],
   "source": [
    "import numpy as np\n",
    "import pandas as pd \n",
    "import re\n",
    "import os\n",
    "import string\n",
    "from string import digits\n",
    "import matplotlib.pyplot as plt\n",
    "import seaborn as sns\n",
    "from sklearn.utils import shuffle\n",
    "from sklearn.model_selection import train_test_split\n",
    "from keras.layers import Input, LSTM, Embedding, Dense\n",
    "from keras.models import Model"
   ]
  },
  {
   "cell_type": "markdown",
   "metadata": {},
   "source": [
    "## Load the Data Sets"
   ]
  },
  {
   "cell_type": "code",
   "execution_count": 2,
   "metadata": {},
   "outputs": [],
   "source": [
    "lines=pd.read_csv(\"Hindi_English_Truncated_Corpus_H2E.csv\",encoding='utf-8')"
   ]
  },
  {
   "cell_type": "code",
   "execution_count": 3,
   "metadata": {},
   "outputs": [
    {
     "data": {
      "text/plain": [
       "127607"
      ]
     },
     "execution_count": 3,
     "metadata": {},
     "output_type": "execute_result"
    }
   ],
   "source": [
    "len(lines)"
   ]
  },
  {
   "cell_type": "code",
   "execution_count": 4,
   "metadata": {},
   "outputs": [
    {
     "data": {
      "text/plain": [
       "tides        50000\n",
       "ted          39881\n",
       "indic2012    37726\n",
       "Name: source, dtype: int64"
      ]
     },
     "execution_count": 4,
     "metadata": {},
     "output_type": "execute_result"
    }
   ],
   "source": [
    "lines['source'].value_counts()"
   ]
  },
  {
   "cell_type": "code",
   "execution_count": 5,
   "metadata": {},
   "outputs": [],
   "source": [
    "lines = lines[lines['source'].isin(['ted', 'tides'])]"
   ]
  },
  {
   "cell_type": "code",
   "execution_count": 6,
   "metadata": {},
   "outputs": [
    {
     "data": {
      "text/html": [
       "<div>\n",
       "<style scoped>\n",
       "    .dataframe tbody tr th:only-of-type {\n",
       "        vertical-align: middle;\n",
       "    }\n",
       "\n",
       "    .dataframe tbody tr th {\n",
       "        vertical-align: top;\n",
       "    }\n",
       "\n",
       "    .dataframe thead th {\n",
       "        text-align: right;\n",
       "    }\n",
       "</style>\n",
       "<table border=\"1\" class=\"dataframe\">\n",
       "  <thead>\n",
       "    <tr style=\"text-align: right;\">\n",
       "      <th></th>\n",
       "      <th>source</th>\n",
       "      <th>hindi_sentence</th>\n",
       "      <th>english_sentence</th>\n",
       "    </tr>\n",
       "  </thead>\n",
       "  <tbody>\n",
       "    <tr>\n",
       "      <th>0</th>\n",
       "      <td>ted</td>\n",
       "      <td>राजनीतिज्ञों के पास जो कार्य करना चाहिए, वह कर...</td>\n",
       "      <td>politicians do not have permission to do what ...</td>\n",
       "    </tr>\n",
       "    <tr>\n",
       "      <th>1</th>\n",
       "      <td>ted</td>\n",
       "      <td>मई आपको ऐसे ही एक बच्चे के बारे में बताना चाहू...</td>\n",
       "      <td>I'd like to tell you about one such child,</td>\n",
       "    </tr>\n",
       "    <tr>\n",
       "      <th>3</th>\n",
       "      <td>ted</td>\n",
       "      <td>हम ये नहीं कहना चाहते कि वो ध्यान नहीं दे पाते</td>\n",
       "      <td>what we really mean is that they're bad at not...</td>\n",
       "    </tr>\n",
       "    <tr>\n",
       "      <th>5</th>\n",
       "      <td>tides</td>\n",
       "      <td>कश्मीर के तत्कालीन गवर्नर ने इस हस्तांतरण का व...</td>\n",
       "      <td>The then Governor of Kashmir resisted transfer...</td>\n",
       "    </tr>\n",
       "    <tr>\n",
       "      <th>7</th>\n",
       "      <td>ted</td>\n",
       "      <td>और हम होते कौन हैं यह कहने भी वाले कि वे गलत हैं</td>\n",
       "      <td>And who are we to say, even, that they are wrong</td>\n",
       "    </tr>\n",
       "    <tr>\n",
       "      <th>9</th>\n",
       "      <td>tides</td>\n",
       "      <td>हो सकता है कि आप चाहते हों कि आप का नऋर्नमेनटे...</td>\n",
       "      <td>You may want your child to go to a school that...</td>\n",
       "    </tr>\n",
       "    <tr>\n",
       "      <th>10</th>\n",
       "      <td>tides</td>\n",
       "      <td>कृपया यह सुनिश्चित कर लें कि आप सही फॉर्म का प...</td>\n",
       "      <td>Please ensure that you use the appropriate form .</td>\n",
       "    </tr>\n",
       "    <tr>\n",
       "      <th>13</th>\n",
       "      <td>ted</td>\n",
       "      <td>तो वहाँ न्याय है</td>\n",
       "      <td>So there is some sort of justice</td>\n",
       "    </tr>\n",
       "    <tr>\n",
       "      <th>14</th>\n",
       "      <td>tides</td>\n",
       "      <td>पहले दो को अविश्वसनीय मानकर बाकी पांच मुखबिरों...</td>\n",
       "      <td>The first two were found unreliable and the pr...</td>\n",
       "    </tr>\n",
       "    <tr>\n",
       "      <th>15</th>\n",
       "      <td>tides</td>\n",
       "      <td>कम संख़्या वाले उच्च एवं मध्यम श्रेणी के लोगों...</td>\n",
       "      <td>They had justified their educational policy of...</td>\n",
       "    </tr>\n",
       "    <tr>\n",
       "      <th>18</th>\n",
       "      <td>tides</td>\n",
       "      <td>रजिस्टर न्यायालय जिन्हें न्यायाधीश द्वारा प्रा...</td>\n",
       "      <td>ii Register Courts , empowered to try causes f...</td>\n",
       "    </tr>\n",
       "    <tr>\n",
       "      <th>20</th>\n",
       "      <td>tides</td>\n",
       "      <td>' लाडड़ी लोकप्रिय स्त्री नृत्य है .</td>\n",
       "      <td>Of these Lahadi is a popular one .</td>\n",
       "    </tr>\n",
       "    <tr>\n",
       "      <th>21</th>\n",
       "      <td>tides</td>\n",
       "      <td>यहां तक कि पानी में हाइड्रोजन सल्फाइड की 0.001...</td>\n",
       "      <td>Even a concentration of 0.001 ppm of hydrogen ...</td>\n",
       "    </tr>\n",
       "    <tr>\n",
       "      <th>23</th>\n",
       "      <td>ted</td>\n",
       "      <td>धीरे धीरे ये सब बदला</td>\n",
       "      <td>This changed slowly</td>\n",
       "    </tr>\n",
       "    <tr>\n",
       "      <th>24</th>\n",
       "      <td>tides</td>\n",
       "      <td>एक ही जीन के उत्परिवर्तन के कारण होने वाले आनु...</td>\n",
       "      <td>Far more interesting are genetic diseases that...</td>\n",
       "    </tr>\n",
       "    <tr>\n",
       "      <th>25</th>\n",
       "      <td>tides</td>\n",
       "      <td>बाद में वित्तैइय संस्थाएं इन शेयरों को सुजुकी ...</td>\n",
       "      <td>The FIs are expected to offload the stake in f...</td>\n",
       "    </tr>\n",
       "    <tr>\n",
       "      <th>26</th>\n",
       "      <td>ted</td>\n",
       "      <td>उत्पन्न नहीं कि जाती थी.</td>\n",
       "      <td>were being produced.</td>\n",
       "    </tr>\n",
       "    <tr>\n",
       "      <th>27</th>\n",
       "      <td>tides</td>\n",
       "      <td>नरेंद्र ने कौंसिल से तीन या चार मुलाकातें की क...</td>\n",
       "      <td>Naren had three or four meetings with the Cons...</td>\n",
       "    </tr>\n",
       "    <tr>\n",
       "      <th>28</th>\n",
       "      <td>tides</td>\n",
       "      <td>जो भी इस झंडे के नीचे खड़ा है वह न हिंदू है , ...</td>\n",
       "      <td>All those who stand today under this flag are ...</td>\n",
       "    </tr>\n",
       "    <tr>\n",
       "      <th>29</th>\n",
       "      <td>tides</td>\n",
       "      <td>कुछ मामलों में प्रथम स्तर के न्यायालय होने के ...</td>\n",
       "      <td>In some cases the High Courts have the jurisdi...</td>\n",
       "    </tr>\n",
       "  </tbody>\n",
       "</table>\n",
       "</div>"
      ],
      "text/plain": [
       "   source                                     hindi_sentence  \\\n",
       "0     ted  राजनीतिज्ञों के पास जो कार्य करना चाहिए, वह कर...   \n",
       "1     ted  मई आपको ऐसे ही एक बच्चे के बारे में बताना चाहू...   \n",
       "3     ted     हम ये नहीं कहना चाहते कि वो ध्यान नहीं दे पाते   \n",
       "5   tides  कश्मीर के तत्कालीन गवर्नर ने इस हस्तांतरण का व...   \n",
       "7     ted   और हम होते कौन हैं यह कहने भी वाले कि वे गलत हैं   \n",
       "9   tides  हो सकता है कि आप चाहते हों कि आप का नऋर्नमेनटे...   \n",
       "10  tides  कृपया यह सुनिश्चित कर लें कि आप सही फॉर्म का प...   \n",
       "13    ted                                   तो वहाँ न्याय है   \n",
       "14  tides  पहले दो को अविश्वसनीय मानकर बाकी पांच मुखबिरों...   \n",
       "15  tides  कम संख़्या वाले उच्च एवं मध्यम श्रेणी के लोगों...   \n",
       "18  tides  रजिस्टर न्यायालय जिन्हें न्यायाधीश द्वारा प्रा...   \n",
       "20  tides                ' लाडड़ी लोकप्रिय स्त्री नृत्य है .   \n",
       "21  tides  यहां तक कि पानी में हाइड्रोजन सल्फाइड की 0.001...   \n",
       "23    ted                               धीरे धीरे ये सब बदला   \n",
       "24  tides  एक ही जीन के उत्परिवर्तन के कारण होने वाले आनु...   \n",
       "25  tides  बाद में वित्तैइय संस्थाएं इन शेयरों को सुजुकी ...   \n",
       "26    ted                           उत्पन्न नहीं कि जाती थी.   \n",
       "27  tides  नरेंद्र ने कौंसिल से तीन या चार मुलाकातें की क...   \n",
       "28  tides  जो भी इस झंडे के नीचे खड़ा है वह न हिंदू है , ...   \n",
       "29  tides  कुछ मामलों में प्रथम स्तर के न्यायालय होने के ...   \n",
       "\n",
       "                                     english_sentence  \n",
       "0   politicians do not have permission to do what ...  \n",
       "1          I'd like to tell you about one such child,  \n",
       "3   what we really mean is that they're bad at not...  \n",
       "5   The then Governor of Kashmir resisted transfer...  \n",
       "7    And who are we to say, even, that they are wrong  \n",
       "9   You may want your child to go to a school that...  \n",
       "10  Please ensure that you use the appropriate form .  \n",
       "13                   So there is some sort of justice  \n",
       "14  The first two were found unreliable and the pr...  \n",
       "15  They had justified their educational policy of...  \n",
       "18  ii Register Courts , empowered to try causes f...  \n",
       "20                 Of these Lahadi is a popular one .  \n",
       "21  Even a concentration of 0.001 ppm of hydrogen ...  \n",
       "23                                This changed slowly  \n",
       "24  Far more interesting are genetic diseases that...  \n",
       "25  The FIs are expected to offload the stake in f...  \n",
       "26                               were being produced.  \n",
       "27  Naren had three or four meetings with the Cons...  \n",
       "28  All those who stand today under this flag are ...  \n",
       "29  In some cases the High Courts have the jurisdi...  "
      ]
     },
     "execution_count": 6,
     "metadata": {},
     "output_type": "execute_result"
    }
   ],
   "source": [
    "lines.head(20)"
   ]
  },
  {
   "cell_type": "code",
   "execution_count": 7,
   "metadata": {},
   "outputs": [
    {
     "data": {
      "text/plain": [
       "89881"
      ]
     },
     "execution_count": 7,
     "metadata": {},
     "output_type": "execute_result"
    }
   ],
   "source": [
    "len(lines)"
   ]
  },
  {
   "cell_type": "code",
   "execution_count": 8,
   "metadata": {},
   "outputs": [
    {
     "data": {
      "text/plain": [
       "source              0\n",
       "hindi_sentence      0\n",
       "english_sentence    0\n",
       "dtype: int64"
      ]
     },
     "execution_count": 8,
     "metadata": {},
     "output_type": "execute_result"
    }
   ],
   "source": [
    "# Count the null values in each column\n",
    "pd.isnull(lines).sum()"
   ]
  },
  {
   "cell_type": "code",
   "execution_count": 9,
   "metadata": {},
   "outputs": [],
   "source": [
    "# Select record with Not Null values\n",
    "lines=lines[~pd.isnull(lines['hindi_sentence'])]"
   ]
  },
  {
   "cell_type": "code",
   "execution_count": 10,
   "metadata": {},
   "outputs": [],
   "source": [
    "# Drop the duplicates record\n",
    "lines.drop_duplicates(inplace=True)"
   ]
  },
  {
   "cell_type": "code",
   "execution_count": 11,
   "metadata": {},
   "outputs": [
    {
     "data": {
      "text/plain": [
       "(75000, 3)"
      ]
     },
     "execution_count": 11,
     "metadata": {},
     "output_type": "execute_result"
    }
   ],
   "source": [
    "# Filter 75K Records\n",
    "lines=lines.sample(n=75000,random_state=42)\n",
    "lines.shape"
   ]
  },
  {
   "cell_type": "markdown",
   "metadata": {},
   "source": [
    "## Preprocess the Datasets"
   ]
  },
  {
   "cell_type": "code",
   "execution_count": 12,
   "metadata": {},
   "outputs": [],
   "source": [
    "# Lowercase all characters\n",
    "lines['hindi_sentence']=lines['hindi_sentence'].apply(lambda x: x.lower())\n",
    "lines['english_sentence']=lines['english_sentence'].apply(lambda x: x.lower())"
   ]
  },
  {
   "cell_type": "code",
   "execution_count": 13,
   "metadata": {},
   "outputs": [],
   "source": [
    "# Remove quotes\n",
    "lines['hindi_sentence']=lines['hindi_sentence'].apply(lambda x: re.sub(\"'\", '', x))\n",
    "lines['english_sentence']=lines['english_sentence'].apply(lambda x: re.sub(\"'\", '', x))"
   ]
  },
  {
   "cell_type": "code",
   "execution_count": 14,
   "metadata": {},
   "outputs": [],
   "source": [
    "exclude = set(string.punctuation) # Set of all special characters\n",
    "# Remove all the special characters\n",
    "lines['hindi_sentence']=lines['hindi_sentence'].apply(lambda x: ''.join(ch for ch in x if ch not in exclude))\n",
    "lines['english_sentence']=lines['english_sentence'].apply(lambda x: ''.join(ch for ch in x if ch not in exclude))"
   ]
  },
  {
   "cell_type": "code",
   "execution_count": 15,
   "metadata": {},
   "outputs": [],
   "source": [
    "# Remove all numbers from text\n",
    "remove_digits = str.maketrans('', '', digits)\n",
    "lines['english_sentence']=lines['english_sentence'].apply(lambda x: x.translate(remove_digits))\n",
    "lines['hindi_sentence']=lines['hindi_sentence'].apply(lambda x: x.translate(remove_digits))\n",
    "lines['hindi_sentence'] = lines['hindi_sentence'].apply(lambda x: re.sub(\"[२३०८१५७९४६]\", \"\", x))\n",
    "\n",
    "# Remove extra spaces\n",
    "lines['english_sentence']=lines['english_sentence'].apply(lambda x: x.strip())\n",
    "lines['hindi_sentence']=lines['hindi_sentence'].apply(lambda x: x.strip())\n",
    "lines['english_sentence']=lines['english_sentence'].apply(lambda x: re.sub(\" +\", \" \", x))\n",
    "lines['hindi_sentence']=lines['hindi_sentence'].apply(lambda x: re.sub(\" +\", \" \", x))"
   ]
  },
  {
   "cell_type": "code",
   "execution_count": 16,
   "metadata": {},
   "outputs": [],
   "source": [
    "# Add start and end tokens to target sequences\n",
    "lines['english_sentence'] = lines['english_sentence'].apply(lambda x : 'START_ '+ x + ' _END')"
   ]
  },
  {
   "cell_type": "code",
   "execution_count": 17,
   "metadata": {},
   "outputs": [
    {
     "data": {
      "text/html": [
       "<div>\n",
       "<style scoped>\n",
       "    .dataframe tbody tr th:only-of-type {\n",
       "        vertical-align: middle;\n",
       "    }\n",
       "\n",
       "    .dataframe tbody tr th {\n",
       "        vertical-align: top;\n",
       "    }\n",
       "\n",
       "    .dataframe thead th {\n",
       "        text-align: right;\n",
       "    }\n",
       "</style>\n",
       "<table border=\"1\" class=\"dataframe\">\n",
       "  <thead>\n",
       "    <tr style=\"text-align: right;\">\n",
       "      <th></th>\n",
       "      <th>source</th>\n",
       "      <th>hindi_sentence</th>\n",
       "      <th>english_sentence</th>\n",
       "    </tr>\n",
       "  </thead>\n",
       "  <tbody>\n",
       "    <tr>\n",
       "      <th>8527</th>\n",
       "      <td>tides</td>\n",
       "      <td>सभी प्रकार का कमर दर्द इस रोग का प्रमुख लक्षण ...</td>\n",
       "      <td>START_ all kinds of back pain are a primary sy...</td>\n",
       "    </tr>\n",
       "    <tr>\n",
       "      <th>52948</th>\n",
       "      <td>tides</td>\n",
       "      <td>मार्च के प्रारंभ में महात्मा गांधी ने ब्रिटिश ...</td>\n",
       "      <td>START_ early in march the mahatma served his h...</td>\n",
       "    </tr>\n",
       "    <tr>\n",
       "      <th>11574</th>\n",
       "      <td>ted</td>\n",
       "      <td>अपने शहरों और अपने ही देशों मे।</td>\n",
       "      <td>START_ in cities in their own communities _END</td>\n",
       "    </tr>\n",
       "    <tr>\n",
       "      <th>32922</th>\n",
       "      <td>ted</td>\n",
       "      <td>अपने स्टूडियो में हिप हॉप कलाकार विलइऍम का</td>\n",
       "      <td>START_ of hip hop artist william into their st...</td>\n",
       "    </tr>\n",
       "    <tr>\n",
       "      <th>92845</th>\n",
       "      <td>tides</td>\n",
       "      <td>यह जुलूस दोनों धर्मों के कट्टरपंथियों का जुलूस...</td>\n",
       "      <td>START_ this was a joint protest by the orthodo...</td>\n",
       "    </tr>\n",
       "  </tbody>\n",
       "</table>\n",
       "</div>"
      ],
      "text/plain": [
       "      source                                     hindi_sentence  \\\n",
       "8527   tides  सभी प्रकार का कमर दर्द इस रोग का प्रमुख लक्षण ...   \n",
       "52948  tides  मार्च के प्रारंभ में महात्मा गांधी ने ब्रिटिश ...   \n",
       "11574    ted                    अपने शहरों और अपने ही देशों मे।   \n",
       "32922    ted         अपने स्टूडियो में हिप हॉप कलाकार विलइऍम का   \n",
       "92845  tides  यह जुलूस दोनों धर्मों के कट्टरपंथियों का जुलूस...   \n",
       "\n",
       "                                        english_sentence  \n",
       "8527   START_ all kinds of back pain are a primary sy...  \n",
       "52948  START_ early in march the mahatma served his h...  \n",
       "11574     START_ in cities in their own communities _END  \n",
       "32922  START_ of hip hop artist william into their st...  \n",
       "92845  START_ this was a joint protest by the orthodo...  "
      ]
     },
     "execution_count": 17,
     "metadata": {},
     "output_type": "execute_result"
    }
   ],
   "source": [
    "lines.head()"
   ]
  },
  {
   "cell_type": "code",
   "execution_count": 18,
   "metadata": {},
   "outputs": [],
   "source": [
    "### Get English and Hindi Vocabulary\n",
    "all_hindi_words=set()\n",
    "for hin in lines['hindi_sentence']:\n",
    "    for word in hin.split():\n",
    "        if word not in all_hindi_words:\n",
    "            all_hindi_words.add(word)\n",
    "\n",
    "all_eng_words=set()\n",
    "for eng in lines['english_sentence']:\n",
    "    for word in eng.split():\n",
    "        if word not in all_eng_words:\n",
    "            all_eng_words.add(word)"
   ]
  },
  {
   "cell_type": "code",
   "execution_count": 19,
   "metadata": {},
   "outputs": [
    {
     "name": "stdout",
     "output_type": "stream",
     "text": [
      "Count of Hindi Word :  66418\n",
      "Count of English Word :  46377\n"
     ]
    }
   ],
   "source": [
    "print(\"Count of Hindi Word : \",len(all_hindi_words))\n",
    "print(\"Count of English Word : \",len(all_eng_words))"
   ]
  },
  {
   "cell_type": "code",
   "execution_count": 20,
   "metadata": {},
   "outputs": [],
   "source": [
    "lines['length_hin_sentence']=lines['hindi_sentence'].apply(lambda x:len(x.split(\" \")))\n",
    "lines['length_eng_sentence']=lines['english_sentence'].apply(lambda x:len(x.split(\" \")))"
   ]
  },
  {
   "cell_type": "code",
   "execution_count": 21,
   "metadata": {},
   "outputs": [
    {
     "data": {
      "text/html": [
       "<div>\n",
       "<style scoped>\n",
       "    .dataframe tbody tr th:only-of-type {\n",
       "        vertical-align: middle;\n",
       "    }\n",
       "\n",
       "    .dataframe tbody tr th {\n",
       "        vertical-align: top;\n",
       "    }\n",
       "\n",
       "    .dataframe thead th {\n",
       "        text-align: right;\n",
       "    }\n",
       "</style>\n",
       "<table border=\"1\" class=\"dataframe\">\n",
       "  <thead>\n",
       "    <tr style=\"text-align: right;\">\n",
       "      <th></th>\n",
       "      <th>source</th>\n",
       "      <th>hindi_sentence</th>\n",
       "      <th>english_sentence</th>\n",
       "      <th>length_hin_sentence</th>\n",
       "      <th>length_eng_sentence</th>\n",
       "    </tr>\n",
       "  </thead>\n",
       "  <tbody>\n",
       "    <tr>\n",
       "      <th>8527</th>\n",
       "      <td>tides</td>\n",
       "      <td>सभी प्रकार का कमर दर्द इस रोग का प्रमुख लक्षण ...</td>\n",
       "      <td>START_ all kinds of back pain are a primary sy...</td>\n",
       "      <td>25</td>\n",
       "      <td>26</td>\n",
       "    </tr>\n",
       "    <tr>\n",
       "      <th>52948</th>\n",
       "      <td>tides</td>\n",
       "      <td>मार्च के प्रारंभ में महात्मा गांधी ने ब्रिटिश ...</td>\n",
       "      <td>START_ early in march the mahatma served his h...</td>\n",
       "      <td>31</td>\n",
       "      <td>33</td>\n",
       "    </tr>\n",
       "    <tr>\n",
       "      <th>11574</th>\n",
       "      <td>ted</td>\n",
       "      <td>अपने शहरों और अपने ही देशों मे।</td>\n",
       "      <td>START_ in cities in their own communities _END</td>\n",
       "      <td>7</td>\n",
       "      <td>8</td>\n",
       "    </tr>\n",
       "    <tr>\n",
       "      <th>32922</th>\n",
       "      <td>ted</td>\n",
       "      <td>अपने स्टूडियो में हिप हॉप कलाकार विलइऍम का</td>\n",
       "      <td>START_ of hip hop artist william into their st...</td>\n",
       "      <td>8</td>\n",
       "      <td>10</td>\n",
       "    </tr>\n",
       "    <tr>\n",
       "      <th>92845</th>\n",
       "      <td>tides</td>\n",
       "      <td>यह जुलूस दोनों धर्मों के कट्टरपंथियों का जुलूस...</td>\n",
       "      <td>START_ this was a joint protest by the orthodo...</td>\n",
       "      <td>40</td>\n",
       "      <td>35</td>\n",
       "    </tr>\n",
       "  </tbody>\n",
       "</table>\n",
       "</div>"
      ],
      "text/plain": [
       "      source                                     hindi_sentence  \\\n",
       "8527   tides  सभी प्रकार का कमर दर्द इस रोग का प्रमुख लक्षण ...   \n",
       "52948  tides  मार्च के प्रारंभ में महात्मा गांधी ने ब्रिटिश ...   \n",
       "11574    ted                    अपने शहरों और अपने ही देशों मे।   \n",
       "32922    ted         अपने स्टूडियो में हिप हॉप कलाकार विलइऍम का   \n",
       "92845  tides  यह जुलूस दोनों धर्मों के कट्टरपंथियों का जुलूस...   \n",
       "\n",
       "                                        english_sentence  length_hin_sentence  \\\n",
       "8527   START_ all kinds of back pain are a primary sy...                   25   \n",
       "52948  START_ early in march the mahatma served his h...                   31   \n",
       "11574     START_ in cities in their own communities _END                    7   \n",
       "32922  START_ of hip hop artist william into their st...                    8   \n",
       "92845  START_ this was a joint protest by the orthodo...                   40   \n",
       "\n",
       "       length_eng_sentence  \n",
       "8527                    26  \n",
       "52948                   33  \n",
       "11574                    8  \n",
       "32922                   10  \n",
       "92845                   35  "
      ]
     },
     "execution_count": 21,
     "metadata": {},
     "output_type": "execute_result"
    }
   ],
   "source": [
    "lines.head()"
   ]
  },
  {
   "cell_type": "code",
   "execution_count": 22,
   "metadata": {},
   "outputs": [
    {
     "data": {
      "text/plain": [
       "(9338, 5)"
      ]
     },
     "execution_count": 22,
     "metadata": {},
     "output_type": "execute_result"
    }
   ],
   "source": [
    "lines[lines['length_eng_sentence']>30].shape"
   ]
  },
  {
   "cell_type": "code",
   "execution_count": 23,
   "metadata": {},
   "outputs": [],
   "source": [
    "lines=lines[lines['length_eng_sentence']<=20]\n",
    "lines=lines[lines['length_hin_sentence']<=20]"
   ]
  },
  {
   "cell_type": "code",
   "execution_count": 24,
   "metadata": {},
   "outputs": [
    {
     "data": {
      "text/plain": [
       "(50205, 5)"
      ]
     },
     "execution_count": 24,
     "metadata": {},
     "output_type": "execute_result"
    }
   ],
   "source": [
    "lines.shape"
   ]
  },
  {
   "cell_type": "code",
   "execution_count": 25,
   "metadata": {},
   "outputs": [
    {
     "name": "stdout",
     "output_type": "stream",
     "text": [
      "maximum length of Hindi Sentence  20\n",
      "maximum length of English Sentence  20\n"
     ]
    }
   ],
   "source": [
    "print(\"maximum length of Hindi Sentence \",max(lines['length_hin_sentence']))\n",
    "print(\"maximum length of English Sentence \",max(lines['length_eng_sentence']))"
   ]
  },
  {
   "cell_type": "code",
   "execution_count": 26,
   "metadata": {},
   "outputs": [],
   "source": [
    "max_length_src=max(lines['length_hin_sentence'])\n",
    "max_length_tar=max(lines['length_eng_sentence'])"
   ]
  },
  {
   "cell_type": "code",
   "execution_count": 27,
   "metadata": {},
   "outputs": [
    {
     "data": {
      "text/plain": [
       "(66418, 46377)"
      ]
     },
     "execution_count": 27,
     "metadata": {},
     "output_type": "execute_result"
    }
   ],
   "source": [
    "input_words = sorted(list(all_hindi_words))\n",
    "target_words = sorted(list(all_eng_words))\n",
    "num_encoder_tokens = len(all_hindi_words)\n",
    "num_decoder_tokens = len(all_eng_words)\n",
    "num_encoder_tokens, num_decoder_tokens"
   ]
  },
  {
   "cell_type": "code",
   "execution_count": 28,
   "metadata": {},
   "outputs": [],
   "source": [
    "num_decoder_tokens += 1 #for zero padding\n",
    "num_encoder_tokens = num_encoder_tokens + 1"
   ]
  },
  {
   "cell_type": "code",
   "execution_count": 29,
   "metadata": {},
   "outputs": [],
   "source": [
    "input_token_index = dict([(word, i+1) for i, word in enumerate(input_words)])\n",
    "target_token_index = dict([(word, i+1) for i, word in enumerate(target_words)])"
   ]
  },
  {
   "cell_type": "code",
   "execution_count": 30,
   "metadata": {},
   "outputs": [],
   "source": [
    "reverse_input_char_index = dict((i, word) for word, i in input_token_index.items())\n",
    "reverse_target_char_index = dict((i, word) for word, i in target_token_index.items())"
   ]
  },
  {
   "cell_type": "code",
   "execution_count": 31,
   "metadata": {},
   "outputs": [
    {
     "data": {
      "text/html": [
       "<div>\n",
       "<style scoped>\n",
       "    .dataframe tbody tr th:only-of-type {\n",
       "        vertical-align: middle;\n",
       "    }\n",
       "\n",
       "    .dataframe tbody tr th {\n",
       "        vertical-align: top;\n",
       "    }\n",
       "\n",
       "    .dataframe thead th {\n",
       "        text-align: right;\n",
       "    }\n",
       "</style>\n",
       "<table border=\"1\" class=\"dataframe\">\n",
       "  <thead>\n",
       "    <tr style=\"text-align: right;\">\n",
       "      <th></th>\n",
       "      <th>source</th>\n",
       "      <th>hindi_sentence</th>\n",
       "      <th>english_sentence</th>\n",
       "      <th>length_hin_sentence</th>\n",
       "      <th>length_eng_sentence</th>\n",
       "    </tr>\n",
       "  </thead>\n",
       "  <tbody>\n",
       "    <tr>\n",
       "      <th>86656</th>\n",
       "      <td>ted</td>\n",
       "      <td>और दुनिया को बेहतर बना रहे है ।</td>\n",
       "      <td>START_ and making a better world _END</td>\n",
       "      <td>8</td>\n",
       "      <td>7</td>\n",
       "    </tr>\n",
       "    <tr>\n",
       "      <th>10211</th>\n",
       "      <td>tides</td>\n",
       "      <td>इतनी जटिलताओं से बचने को अर्ग्नि का जन्म हुआ</td>\n",
       "      <td>START_ to avoid such a complex trajectory the ...</td>\n",
       "      <td>9</td>\n",
       "      <td>13</td>\n",
       "    </tr>\n",
       "    <tr>\n",
       "      <th>20022</th>\n",
       "      <td>tides</td>\n",
       "      <td>चरवाहे ने आकर उससे प्रार्थना की कि आदमी भेजकर ...</td>\n",
       "      <td>START_ the cowherd came to basava and begged h...</td>\n",
       "      <td>12</td>\n",
       "      <td>18</td>\n",
       "    </tr>\n",
       "    <tr>\n",
       "      <th>92670</th>\n",
       "      <td>ted</td>\n",
       "      <td>इस बात की कि अनुदान आखिर क्या है और क्या हो सक...</td>\n",
       "      <td>START_ of what aid is and can be _END</td>\n",
       "      <td>13</td>\n",
       "      <td>9</td>\n",
       "    </tr>\n",
       "    <tr>\n",
       "      <th>38767</th>\n",
       "      <td>ted</td>\n",
       "      <td>फिर में मैप map उपग्रह फिर wmap</td>\n",
       "      <td>START_ and then in the map satellite was launc...</td>\n",
       "      <td>7</td>\n",
       "      <td>12</td>\n",
       "    </tr>\n",
       "    <tr>\n",
       "      <th>17348</th>\n",
       "      <td>tides</td>\n",
       "      <td>इस दिशा में बहुत तेजी से अनुसंधान किए जा रहे हैं</td>\n",
       "      <td>START_ research is progressing very rapidly in...</td>\n",
       "      <td>11</td>\n",
       "      <td>10</td>\n",
       "    </tr>\n",
       "    <tr>\n",
       "      <th>100771</th>\n",
       "      <td>ted</td>\n",
       "      <td>हमारी फ़ाउण्डेशन ने एक वैक्सीन पर काम किया है ...</td>\n",
       "      <td>START_ our foundation has backed a vaccine tha...</td>\n",
       "      <td>16</td>\n",
       "      <td>14</td>\n",
       "    </tr>\n",
       "    <tr>\n",
       "      <th>9471</th>\n",
       "      <td>tides</td>\n",
       "      <td>संग न ने गृह मंत्रालय के किसी भी बयान या घोषणा...</td>\n",
       "      <td>START_ it dubbed any statement or declaration ...</td>\n",
       "      <td>19</td>\n",
       "      <td>20</td>\n",
       "    </tr>\n",
       "    <tr>\n",
       "      <th>96378</th>\n",
       "      <td>ted</td>\n",
       "      <td>मैं उन्हें पारित कैसे करता मुझे उन्हें और अधिक...</td>\n",
       "      <td>START_ how do i get them to pass i have to get...</td>\n",
       "      <td>13</td>\n",
       "      <td>16</td>\n",
       "    </tr>\n",
       "    <tr>\n",
       "      <th>39371</th>\n",
       "      <td>ted</td>\n",
       "      <td>ये और भी बेहतर हो जाता है</td>\n",
       "      <td>START_ it gets way better _END</td>\n",
       "      <td>7</td>\n",
       "      <td>6</td>\n",
       "    </tr>\n",
       "  </tbody>\n",
       "</table>\n",
       "</div>"
      ],
      "text/plain": [
       "       source                                     hindi_sentence  \\\n",
       "86656     ted                    और दुनिया को बेहतर बना रहे है ।   \n",
       "10211   tides       इतनी जटिलताओं से बचने को अर्ग्नि का जन्म हुआ   \n",
       "20022   tides  चरवाहे ने आकर उससे प्रार्थना की कि आदमी भेजकर ...   \n",
       "92670     ted  इस बात की कि अनुदान आखिर क्या है और क्या हो सक...   \n",
       "38767     ted                    फिर में मैप map उपग्रह फिर wmap   \n",
       "17348   tides   इस दिशा में बहुत तेजी से अनुसंधान किए जा रहे हैं   \n",
       "100771    ted  हमारी फ़ाउण्डेशन ने एक वैक्सीन पर काम किया है ...   \n",
       "9471    tides  संग न ने गृह मंत्रालय के किसी भी बयान या घोषणा...   \n",
       "96378     ted  मैं उन्हें पारित कैसे करता मुझे उन्हें और अधिक...   \n",
       "39371     ted                          ये और भी बेहतर हो जाता है   \n",
       "\n",
       "                                         english_sentence  \\\n",
       "86656               START_ and making a better world _END   \n",
       "10211   START_ to avoid such a complex trajectory the ...   \n",
       "20022   START_ the cowherd came to basava and begged h...   \n",
       "92670               START_ of what aid is and can be _END   \n",
       "38767   START_ and then in the map satellite was launc...   \n",
       "17348   START_ research is progressing very rapidly in...   \n",
       "100771  START_ our foundation has backed a vaccine tha...   \n",
       "9471    START_ it dubbed any statement or declaration ...   \n",
       "96378   START_ how do i get them to pass i have to get...   \n",
       "39371                      START_ it gets way better _END   \n",
       "\n",
       "        length_hin_sentence  length_eng_sentence  \n",
       "86656                     8                    7  \n",
       "10211                     9                   13  \n",
       "20022                    12                   18  \n",
       "92670                    13                    9  \n",
       "38767                     7                   12  \n",
       "17348                    11                   10  \n",
       "100771                   16                   14  \n",
       "9471                     19                   20  \n",
       "96378                    13                   16  \n",
       "39371                     7                    6  "
      ]
     },
     "execution_count": 31,
     "metadata": {},
     "output_type": "execute_result"
    }
   ],
   "source": [
    "lines = shuffle(lines)\n",
    "lines.head(10)"
   ]
  },
  {
   "cell_type": "markdown",
   "metadata": {},
   "source": [
    "## Split the data into train and test"
   ]
  },
  {
   "cell_type": "code",
   "execution_count": 32,
   "metadata": {},
   "outputs": [
    {
     "data": {
      "text/plain": [
       "((40164,), (10041,))"
      ]
     },
     "execution_count": 32,
     "metadata": {},
     "output_type": "execute_result"
    }
   ],
   "source": [
    "X, y = lines['hindi_sentence'], lines['english_sentence']\n",
    "X_train, X_test, y_train, y_test = train_test_split(X, y, test_size = 0.2,random_state=42)\n",
    "X_train.shape, X_test.shape"
   ]
  },
  {
   "cell_type": "code",
   "execution_count": 33,
   "metadata": {},
   "outputs": [],
   "source": [
    "## Let us save this data\n",
    "X_train.to_pickle('X_train.pkl')\n",
    "X_test.to_pickle('X_test.pkl')"
   ]
  },
  {
   "cell_type": "code",
   "execution_count": 34,
   "metadata": {},
   "outputs": [],
   "source": [
    "def generate_batch(X = X_train, y = y_train, batch_size = 128):\n",
    "    ''' Generate a batch of data '''\n",
    "    while True:\n",
    "        for j in range(0, len(X), batch_size):\n",
    "            encoder_input_data = np.zeros((batch_size, max_length_src),dtype='float32')\n",
    "            decoder_input_data = np.zeros((batch_size, max_length_tar),dtype='float32')\n",
    "            decoder_target_data = np.zeros((batch_size, max_length_tar, num_decoder_tokens),dtype='float32')\n",
    "            for i, (input_text, target_text) in enumerate(zip(X[j:j+batch_size], y[j:j+batch_size])):\n",
    "                for t, word in enumerate(input_text.split()):\n",
    "                    encoder_input_data[i, t] = input_token_index[word] # encoder input seq\n",
    "                for t, word in enumerate(target_text.split()):\n",
    "                    if t<len(target_text.split())-1:\n",
    "                        decoder_input_data[i, t] = target_token_index[word] # decoder input seq\n",
    "                    if t>0:\n",
    "                        # decoder target sequence (one hot encoded)\n",
    "                        # does not include the START_ token\n",
    "                        # Offset by one timestep\n",
    "                        decoder_target_data[i, t - 1, target_token_index[word]] = 1.\n",
    "            yield([encoder_input_data, decoder_input_data], decoder_target_data)"
   ]
  },
  {
   "cell_type": "markdown",
   "metadata": {},
   "source": [
    "## Encoder-Decoder Architecture"
   ]
  },
  {
   "cell_type": "code",
   "execution_count": 35,
   "metadata": {},
   "outputs": [],
   "source": [
    "latent_dim = 300"
   ]
  },
  {
   "cell_type": "code",
   "execution_count": 36,
   "metadata": {},
   "outputs": [
    {
     "name": "stderr",
     "output_type": "stream",
     "text": [
      "2023-05-21 14:11:37.892832: W tensorflow/compiler/xla/stream_executor/platform/default/dso_loader.cc:64] Could not load dynamic library 'libcuda.so.1'; dlerror: libcuda.so.1: cannot open shared object file: No such file or directory\n",
      "2023-05-21 14:11:37.892869: W tensorflow/compiler/xla/stream_executor/cuda/cuda_driver.cc:265] failed call to cuInit: UNKNOWN ERROR (303)\n",
      "2023-05-21 14:11:37.892897: I tensorflow/compiler/xla/stream_executor/cuda/cuda_diagnostics.cc:156] kernel driver does not appear to be running on this host (csis-ProLiant-DL380-Gen10): /proc/driver/nvidia/version does not exist\n",
      "2023-05-21 14:11:37.893336: I tensorflow/core/platform/cpu_feature_guard.cc:193] This TensorFlow binary is optimized with oneAPI Deep Neural Network Library (oneDNN) to use the following CPU instructions in performance-critical operations:  AVX2 AVX512F FMA\n",
      "To enable them in other operations, rebuild TensorFlow with the appropriate compiler flags.\n"
     ]
    }
   ],
   "source": [
    "# Encoder\n",
    "encoder_inputs = Input(shape=(None,))\n",
    "enc_emb =  Embedding(num_encoder_tokens, latent_dim, mask_zero = True)(encoder_inputs)\n",
    "encoder_lstm = LSTM(latent_dim, return_state=True)\n",
    "encoder_outputs, state_h, state_c = encoder_lstm(enc_emb)\n",
    "# We discard `encoder_outputs` and only keep the states.\n",
    "encoder_states = [state_h, state_c]"
   ]
  },
  {
   "cell_type": "code",
   "execution_count": 37,
   "metadata": {},
   "outputs": [],
   "source": [
    "# Set up the decoder, using `encoder_states` as initial state.\n",
    "decoder_inputs = Input(shape=(None,))\n",
    "dec_emb_layer = Embedding(num_decoder_tokens, latent_dim, mask_zero = True)\n",
    "dec_emb = dec_emb_layer(decoder_inputs)\n",
    "# We set up our decoder to return full output sequences,\n",
    "# and to return internal states as well. We don't use the\n",
    "# return states in the training model, but we will use them in inference.\n",
    "decoder_lstm = LSTM(latent_dim, return_sequences=True, return_state=True)\n",
    "decoder_outputs, _, _ = decoder_lstm(dec_emb,initial_state=encoder_states)\n",
    "decoder_dense = Dense(num_decoder_tokens, activation='softmax')\n",
    "decoder_outputs = decoder_dense(decoder_outputs)\n",
    "\n",
    "# Define the model that will turn\n",
    "# `encoder_input_data` & `decoder_input_data` into `decoder_target_data`\n",
    "model = Model([encoder_inputs, decoder_inputs], decoder_outputs)"
   ]
  },
  {
   "cell_type": "code",
   "execution_count": 38,
   "metadata": {},
   "outputs": [],
   "source": [
    "model.compile(optimizer='rmsprop', loss='categorical_crossentropy')"
   ]
  },
  {
   "cell_type": "code",
   "execution_count": 39,
   "metadata": {},
   "outputs": [
    {
     "name": "stdout",
     "output_type": "stream",
     "text": [
      "Model: \"model\"\n",
      "__________________________________________________________________________________________________\n",
      " Layer (type)                   Output Shape         Param #     Connected to                     \n",
      "==================================================================================================\n",
      " input_1 (InputLayer)           [(None, None)]       0           []                               \n",
      "                                                                                                  \n",
      " input_2 (InputLayer)           [(None, None)]       0           []                               \n",
      "                                                                                                  \n",
      " embedding (Embedding)          (None, None, 300)    19925700    ['input_1[0][0]']                \n",
      "                                                                                                  \n",
      " embedding_1 (Embedding)        (None, None, 300)    13913400    ['input_2[0][0]']                \n",
      "                                                                                                  \n",
      " lstm (LSTM)                    [(None, 300),        721200      ['embedding[0][0]']              \n",
      "                                 (None, 300),                                                     \n",
      "                                 (None, 300)]                                                     \n",
      "                                                                                                  \n",
      " lstm_1 (LSTM)                  [(None, None, 300),  721200      ['embedding_1[0][0]',            \n",
      "                                 (None, 300),                     'lstm[0][1]',                   \n",
      "                                 (None, 300)]                     'lstm[0][2]']                   \n",
      "                                                                                                  \n",
      " dense (Dense)                  (None, None, 46378)  13959778    ['lstm_1[0][0]']                 \n",
      "                                                                                                  \n",
      "==================================================================================================\n",
      "Total params: 49,241,278\n",
      "Trainable params: 49,241,278\n",
      "Non-trainable params: 0\n",
      "__________________________________________________________________________________________________\n"
     ]
    }
   ],
   "source": [
    "model.summary()"
   ]
  },
  {
   "cell_type": "markdown",
   "metadata": {},
   "source": [
    "## Model Training"
   ]
  },
  {
   "cell_type": "code",
   "execution_count": 40,
   "metadata": {},
   "outputs": [],
   "source": [
    "train_samples = len(X_train)\n",
    "val_samples = len(X_test)\n",
    "batch_size = 128\n",
    "epochs = 54"
   ]
  },
  {
   "cell_type": "code",
   "execution_count": 41,
   "metadata": {},
   "outputs": [
    {
     "name": "stderr",
     "output_type": "stream",
     "text": [
      "/home/sunil/sunil2_env/lib/python3.7/site-packages/ipykernel_launcher.py:5: UserWarning: `Model.fit_generator` is deprecated and will be removed in a future version. Please use `Model.fit`, which supports generators.\n",
      "  \"\"\"\n"
     ]
    },
    {
     "name": "stdout",
     "output_type": "stream",
     "text": [
      "Epoch 1/54\n",
      "313/313 [==============================] - 636s 2s/step - loss: 6.9971 - val_loss: 6.6033\n",
      "Epoch 2/54\n",
      "313/313 [==============================] - 887s 3s/step - loss: 6.5601 - val_loss: 6.5729\n",
      "Epoch 3/54\n",
      "313/313 [==============================] - 1001s 3s/step - loss: 6.5303 - val_loss: 6.5610\n",
      "Epoch 4/54\n",
      "313/313 [==============================] - 1014s 3s/step - loss: 6.5014 - val_loss: 6.5137\n",
      "Epoch 5/54\n",
      "313/313 [==============================] - 1239s 4s/step - loss: 6.4255 - val_loss: 6.4243\n",
      "Epoch 6/54\n",
      "313/313 [==============================] - 1273s 4s/step - loss: 6.3192 - val_loss: 6.3064\n",
      "Epoch 7/54\n",
      "313/313 [==============================] - 1293s 4s/step - loss: 6.1918 - val_loss: 6.1998\n",
      "Epoch 8/54\n",
      "313/313 [==============================] - 1260s 4s/step - loss: 6.0858 - val_loss: 6.1036\n",
      "Epoch 9/54\n",
      "313/313 [==============================] - 1292s 4s/step - loss: 6.0013 - val_loss: 6.0376\n",
      "Epoch 10/54\n",
      "313/313 [==============================] - 1291s 4s/step - loss: 5.9281 - val_loss: 5.9863\n",
      "Epoch 11/54\n",
      "313/313 [==============================] - 1219s 4s/step - loss: 5.8597 - val_loss: 5.9369\n",
      "Epoch 12/54\n",
      "313/313 [==============================] - 998s 3s/step - loss: 5.7954 - val_loss: 5.8884\n",
      "Epoch 13/54\n",
      "313/313 [==============================] - 998s 3s/step - loss: 5.7348 - val_loss: 5.8339\n",
      "Epoch 14/54\n",
      "313/313 [==============================] - 1043s 3s/step - loss: 5.6742 - val_loss: 5.8065\n",
      "Epoch 15/54\n",
      "313/313 [==============================] - 1008s 3s/step - loss: 5.6163 - val_loss: 5.7545\n",
      "Epoch 16/54\n",
      "313/313 [==============================] - 992s 3s/step - loss: 5.5588 - val_loss: 5.7120\n",
      "Epoch 17/54\n",
      "313/313 [==============================] - 1008s 3s/step - loss: 5.5039 - val_loss: 5.6812\n",
      "Epoch 18/54\n",
      "313/313 [==============================] - 1006s 3s/step - loss: 5.4519 - val_loss: 5.6490\n",
      "Epoch 19/54\n",
      "313/313 [==============================] - 987s 3s/step - loss: 5.4026 - val_loss: 5.6296\n",
      "Epoch 20/54\n",
      "313/313 [==============================] - 1047s 3s/step - loss: 5.3560 - val_loss: 5.6032\n",
      "Epoch 21/54\n",
      "313/313 [==============================] - 1197s 4s/step - loss: 5.3113 - val_loss: 5.5777\n",
      "Epoch 22/54\n",
      "313/313 [==============================] - 1239s 4s/step - loss: 5.2685 - val_loss: 5.5582\n",
      "Epoch 23/54\n",
      "313/313 [==============================] - 1305s 4s/step - loss: 5.2262 - val_loss: 5.5521\n",
      "Epoch 24/54\n",
      "313/313 [==============================] - 1262s 4s/step - loss: 5.1850 - val_loss: 5.5243\n",
      "Epoch 25/54\n",
      "313/313 [==============================] - 1285s 4s/step - loss: 5.1445 - val_loss: 5.5097\n",
      "Epoch 26/54\n",
      "313/313 [==============================] - 1300s 4s/step - loss: 5.1049 - val_loss: 5.5031\n",
      "Epoch 27/54\n",
      "313/313 [==============================] - 1271s 4s/step - loss: 5.0658 - val_loss: 5.4827\n",
      "Epoch 28/54\n",
      "313/313 [==============================] - 1295s 4s/step - loss: 5.0269 - val_loss: 5.4784\n",
      "Epoch 29/54\n",
      "313/313 [==============================] - 1294s 4s/step - loss: 4.9886 - val_loss: 5.4567\n",
      "Epoch 30/54\n",
      "313/313 [==============================] - 1220s 4s/step - loss: 4.9502 - val_loss: 5.4513\n",
      "Epoch 31/54\n",
      "313/313 [==============================] - 1302s 4s/step - loss: 4.9119 - val_loss: 5.4394\n",
      "Epoch 32/54\n",
      "313/313 [==============================] - 1255s 4s/step - loss: 4.8733 - val_loss: 5.4295\n",
      "Epoch 33/54\n",
      "313/313 [==============================] - 1267s 4s/step - loss: 4.8366 - val_loss: 5.4231\n",
      "Epoch 34/54\n",
      "313/313 [==============================] - 1296s 4s/step - loss: 4.7981 - val_loss: 5.4117\n",
      "Epoch 35/54\n",
      "313/313 [==============================] - 1251s 4s/step - loss: 4.7609 - val_loss: 5.4044\n",
      "Epoch 36/54\n",
      "313/313 [==============================] - 1264s 4s/step - loss: 4.7226 - val_loss: 5.3892\n",
      "Epoch 37/54\n",
      "313/313 [==============================] - 1255s 4s/step - loss: 4.6855 - val_loss: 5.3974\n",
      "Epoch 38/54\n",
      "313/313 [==============================] - 1302s 4s/step - loss: 4.6465 - val_loss: 5.3817\n",
      "Epoch 39/54\n",
      "313/313 [==============================] - 819s 3s/step - loss: 4.6090 - val_loss: 5.3926\n",
      "Epoch 40/54\n",
      "313/313 [==============================] - 735s 2s/step - loss: 4.5706 - val_loss: 5.3866\n",
      "Epoch 41/54\n",
      "313/313 [==============================] - 736s 2s/step - loss: 4.5324 - val_loss: 5.3848\n",
      "Epoch 42/54\n",
      "313/313 [==============================] - 736s 2s/step - loss: 4.4936 - val_loss: 5.3701\n",
      "Epoch 43/54\n",
      "313/313 [==============================] - 734s 2s/step - loss: 4.4565 - val_loss: 5.3620\n",
      "Epoch 44/54\n",
      "313/313 [==============================] - 737s 2s/step - loss: 4.4182 - val_loss: 5.3589\n",
      "Epoch 45/54\n",
      "313/313 [==============================] - 735s 2s/step - loss: 4.3794 - val_loss: 5.3528\n",
      "Epoch 46/54\n",
      "313/313 [==============================] - 733s 2s/step - loss: 4.3412 - val_loss: 5.3511\n",
      "Epoch 47/54\n",
      "313/313 [==============================] - 734s 2s/step - loss: 4.3023 - val_loss: 5.3547\n",
      "Epoch 48/54\n",
      "313/313 [==============================] - 739s 2s/step - loss: 4.2652 - val_loss: 5.3462\n",
      "Epoch 49/54\n",
      "313/313 [==============================] - 736s 2s/step - loss: 4.2255 - val_loss: 5.3515\n",
      "Epoch 50/54\n",
      "313/313 [==============================] - 738s 2s/step - loss: 4.1877 - val_loss: 5.3575\n",
      "Epoch 51/54\n",
      "313/313 [==============================] - 738s 2s/step - loss: 4.1496 - val_loss: 5.3809\n",
      "Epoch 52/54\n",
      "313/313 [==============================] - 735s 2s/step - loss: 4.1110 - val_loss: 5.3731\n",
      "Epoch 53/54\n",
      "313/313 [==============================] - 735s 2s/step - loss: 4.0729 - val_loss: 5.3676\n",
      "Epoch 54/54\n",
      "313/313 [==============================] - 680s 2s/step - loss: 4.0358 - val_loss: 5.3735\n",
      "CPU times: user 5d 22h 55min 1s, sys: 21h 40min 32s, total: 6d 20h 35min 34s\n",
      "Wall time: 15h 35min 58s\n"
     ]
    }
   ],
   "source": [
    "%%time\n",
    "history = model.fit_generator(generator = generate_batch(X_train, y_train, batch_size = batch_size),\n",
    "                    steps_per_epoch = train_samples//batch_size,\n",
    "                    epochs=epochs,\n",
    "                    validation_data = generate_batch(X_test, y_test, batch_size = batch_size),\n",
    "                    validation_steps = val_samples//batch_size)"
   ]
  },
  {
   "cell_type": "code",
   "execution_count": 79,
   "metadata": {},
   "outputs": [],
   "source": [
    "model.save('MT_Hindi_Eng_50_H2E.h5')"
   ]
  },
  {
   "cell_type": "code",
   "execution_count": 45,
   "metadata": {},
   "outputs": [
    {
     "data": {
      "image/png": "[encoded data removed]",
      "text/plain": [
       "<Figure size 640x480 with 1 Axes>"
      ]
     },
     "metadata": {},
     "output_type": "display_data"
    }
   ],
   "source": [
    "# Get the training and validation loss values\n",
    "training_loss = history.history['loss']\n",
    "validation_loss = history.history['val_loss']\n",
    "\n",
    "# Plot the loss curve\n",
    "epochs = range(1, len(training_loss) + 1)\n",
    "plt.plot(epochs, training_loss, 'b', label='Training Loss')\n",
    "plt.plot(epochs, validation_loss, 'r', label='Validation Loss')\n",
    "plt.title('Training and Validation Loss')\n",
    "plt.xlabel('Epochs')\n",
    "plt.ylabel('Loss')\n",
    "plt.legend()\n",
    "plt.show()"
   ]
  },
  {
   "cell_type": "code",
   "execution_count": 46,
   "metadata": {},
   "outputs": [],
   "source": [
    "# Encode the input sequence to get the \"thought vectors\"\n",
    "encoder_model = Model(encoder_inputs, encoder_states)\n",
    "\n",
    "# Decoder setup\n",
    "# Below tensors will hold the states of the previous time step\n",
    "decoder_state_input_h = Input(shape=(latent_dim,))\n",
    "decoder_state_input_c = Input(shape=(latent_dim,))\n",
    "decoder_states_inputs = [decoder_state_input_h, decoder_state_input_c]\n",
    "\n",
    "dec_emb2= dec_emb_layer(decoder_inputs) # Get the embeddings of the decoder sequence\n",
    "\n",
    "# To predict the next word in the sequence, set the initial states to the states from the previous time step\n",
    "decoder_outputs2, state_h2, state_c2 = decoder_lstm(dec_emb2, initial_state=decoder_states_inputs)\n",
    "decoder_states2 = [state_h2, state_c2]\n",
    "decoder_outputs2 = decoder_dense(decoder_outputs2) # A dense softmax layer to generate prob dist. over the target vocabulary\n",
    "\n",
    "# Final decoder model\n",
    "decoder_model = Model(\n",
    "    [decoder_inputs] + decoder_states_inputs,\n",
    "    [decoder_outputs2] + decoder_states2)"
   ]
  },
  {
   "cell_type": "code",
   "execution_count": 47,
   "metadata": {},
   "outputs": [],
   "source": [
    "def decode_sequence(input_seq):\n",
    "    # Encode the input as state vectors.\n",
    "    states_value = encoder_model.predict(input_seq)\n",
    "    # Generate empty target sequence of length 1.\n",
    "    target_seq = np.zeros((1,1))\n",
    "    # Populate the first character of target sequence with the start character.\n",
    "    target_seq[0, 0] = target_token_index['START_']\n",
    "\n",
    "    # Sampling loop for a batch of sequences\n",
    "    # (to simplify, here we assume a batch of size 1).\n",
    "    stop_condition = False\n",
    "    decoded_sentence = ''\n",
    "    while not stop_condition:\n",
    "        output_tokens, h, c = decoder_model.predict([target_seq] + states_value)\n",
    "\n",
    "        # Sample a token\n",
    "        sampled_token_index = np.argmax(output_tokens[0, -1, :])\n",
    "        sampled_char = reverse_target_char_index[sampled_token_index]\n",
    "        decoded_sentence += ' '+sampled_char\n",
    "\n",
    "        # Exit condition: either hit max length\n",
    "        # or find stop character.\n",
    "        if (sampled_char == '_END' or\n",
    "           len(decoded_sentence) > 50):\n",
    "            stop_condition = True\n",
    "\n",
    "        # Update the target sequence (of length 1).\n",
    "        target_seq = np.zeros((1,1))\n",
    "        target_seq[0, 0] = sampled_token_index\n",
    "\n",
    "        # Update states\n",
    "        states_value = [h, c]\n",
    "\n",
    "    return decoded_sentence"
   ]
  },
  {
   "cell_type": "code",
   "execution_count": 64,
   "metadata": {},
   "outputs": [],
   "source": [
    "import sacrebleu\n",
    "def calculate_bleu(reference, hypothesis):\n",
    "    bleu = sacrebleu.corpus_bleu(hypothesis, [reference])\n",
    "     # Print the BLEU score\n",
    "    x = bleu.score/100\n",
    "    print(\"BLEU Score:\",x) "
   ]
  },
  {
   "cell_type": "code",
   "execution_count": 65,
   "metadata": {},
   "outputs": [],
   "source": [
    "train_gen = generate_batch(X_train, y_train, batch_size = 1)\n",
    "k=-1"
   ]
  },
  {
   "cell_type": "code",
   "execution_count": 73,
   "metadata": {},
   "outputs": [
    {
     "name": "stdout",
     "output_type": "stream",
     "text": [
      "1/1 [==============================] - 0s 27ms/step\n",
      "1/1 [==============================] - 0s 33ms/step\n",
      "1/1 [==============================] - 0s 32ms/step\n",
      "1/1 [==============================] - 0s 29ms/step\n",
      "1/1 [==============================] - 0s 33ms/step\n",
      "1/1 [==============================] - 0s 33ms/step\n",
      "1/1 [==============================] - 0s 33ms/step\n",
      "1/1 [==============================] - 0s 33ms/step\n",
      "1/1 [==============================] - 0s 32ms/step\n",
      "1/1 [==============================] - 0s 33ms/step\n",
      "1/1 [==============================] - 0s 33ms/step\n",
      "1/1 [==============================] - 0s 33ms/step\n",
      "Input Hindi sentence: तो वो तेज़ी से आगे निकल गये।\n",
      "Actual English Translation: [' they just race ahead ']\n",
      "Predicted English Translation: [' they were able to take a little bit of them ']\n",
      "BLEU Score: 0.04196114906296548\n"
     ]
    }
   ],
   "source": [
    "k+=1\n",
    "(input_seq, actual_output), _ = next(train_gen)\n",
    "decoded_sentence = decode_sequence(input_seq)\n",
    "print('Input Hindi sentence:', X_train[k:k+1].values[0])\n",
    "reference = y_train[k:k+1].values[0][6:-4]\n",
    "reference = [reference]\n",
    "print('Actual English Translation:', reference)\n",
    "predicted = decoded_sentence[:-4]\n",
    "predicted = [predicted]\n",
    "print('Predicted English Translation:', predicted)\n",
    "calculate_bleu(reference, predicted)"
   ]
  },
  {
   "cell_type": "code",
   "execution_count": 74,
   "metadata": {},
   "outputs": [
    {
     "name": "stdout",
     "output_type": "stream",
     "text": [
      "1/1 [==============================] - 0s 28ms/step\n",
      "1/1 [==============================] - 0s 33ms/step\n",
      "1/1 [==============================] - 0s 32ms/step\n",
      "1/1 [==============================] - 0s 32ms/step\n",
      "1/1 [==============================] - 0s 33ms/step\n",
      "1/1 [==============================] - 0s 32ms/step\n",
      "1/1 [==============================] - 0s 32ms/step\n",
      "1/1 [==============================] - 0s 33ms/step\n",
      "1/1 [==============================] - 0s 33ms/step\n",
      "1/1 [==============================] - 0s 33ms/step\n",
      "Input Hindi sentence: और उन सबको एक प्रमाणपत्र चाहिये होता है।\n",
      "Actual English Translation: [' and they all want a certificate ']\n",
      "Predicted English Translation: [' and they have to be a very good ']\n",
      "BLEU Score: 0.12223075560872519\n"
     ]
    }
   ],
   "source": [
    "k+=1\n",
    "(input_seq, actual_output), _ = next(train_gen)\n",
    "decoded_sentence = decode_sequence(input_seq)\n",
    "print('Input Hindi sentence:', X_train[k:k+1].values[0])\n",
    "reference = y_train[k:k+1].values[0][6:-4]\n",
    "reference = [reference]\n",
    "print('Actual English Translation:', reference)\n",
    "predicted = decoded_sentence[:-4]\n",
    "predicted = [predicted]\n",
    "print('Predicted English Translation:', predicted)\n",
    "calculate_bleu(reference, predicted)"
   ]
  },
  {
   "cell_type": "code",
   "execution_count": 75,
   "metadata": {},
   "outputs": [
    {
     "name": "stdout",
     "output_type": "stream",
     "text": [
      "1/1 [==============================] - 0s 27ms/step\n",
      "1/1 [==============================] - 0s 31ms/step\n",
      "1/1 [==============================] - 0s 33ms/step\n",
      "1/1 [==============================] - 0s 33ms/step\n",
      "1/1 [==============================] - 0s 34ms/step\n",
      "1/1 [==============================] - 0s 33ms/step\n",
      "1/1 [==============================] - 0s 33ms/step\n",
      "1/1 [==============================] - 0s 32ms/step\n",
      "Input Hindi sentence: एक सुपरकंप्यूटर सघन बनाने के लिये\n",
      "Actual English Translation: [' into supercomputing collectives ']\n",
      "Predicted English Translation: [' in a way of a brain ']\n",
      "BLEU Score: 0.0\n"
     ]
    }
   ],
   "source": [
    "k+=1\n",
    "(input_seq, actual_output), _ = next(train_gen)\n",
    "decoded_sentence = decode_sequence(input_seq)\n",
    "print('Input Hindi sentence:', X_train[k:k+1].values[0])\n",
    "reference = y_train[k:k+1].values[0][6:-4]\n",
    "reference = [reference]\n",
    "print('Actual English Translation:', reference)\n",
    "predicted = decoded_sentence[:-4]\n",
    "predicted = [predicted]\n",
    "print('Predicted English Translation:', predicted)\n",
    "calculate_bleu(reference, predicted)"
   ]
  },
  {
   "cell_type": "code",
   "execution_count": 77,
   "metadata": {},
   "outputs": [
    {
     "name": "stdout",
     "output_type": "stream",
     "text": [
      "1/1 [==============================] - 0s 28ms/step\n",
      "1/1 [==============================] - 0s 33ms/step\n",
      "1/1 [==============================] - 0s 32ms/step\n",
      "1/1 [==============================] - 0s 33ms/step\n",
      "1/1 [==============================] - 0s 33ms/step\n",
      "1/1 [==============================] - 0s 32ms/step\n",
      "1/1 [==============================] - 0s 33ms/step\n",
      "1/1 [==============================] - 0s 32ms/step\n",
      "1/1 [==============================] - 0s 32ms/step\n",
      "1/1 [==============================] - 0s 33ms/step\n",
      "1/1 [==============================] - 0s 33ms/step\n",
      "1/1 [==============================] - 0s 33ms/step\n",
      "1/1 [==============================] - 0s 33ms/step\n",
      "1/1 [==============================] - 0s 34ms/step\n",
      "Input Hindi sentence: हम और साल के खिलड़ियों की ओर देख रहे हैं ताकि उनका बेहतर उपयोग किया जा सके\n",
      "Actual English Translation: [' we are looking at and yearolds to make use of them ” ']\n",
      "Predicted English Translation: [' we have to go back to the time they are and in']\n",
      "BLEU Score: 0.04789232204309912\n"
     ]
    }
   ],
   "source": [
    "k+=1\n",
    "(input_seq, actual_output), _ = next(train_gen)\n",
    "decoded_sentence = decode_sequence(input_seq)\n",
    "print('Input Hindi sentence:', X_train[k:k+1].values[0])\n",
    "reference = y_train[k:k+1].values[0][6:-4]\n",
    "reference = [reference]\n",
    "print('Actual English Translation:', reference)\n",
    "predicted = decoded_sentence[:-4]\n",
    "predicted = [predicted]\n",
    "print('Predicted English Translation:', predicted)\n",
    "calculate_bleu(reference, predicted)"
   ]
  },
  {
   "cell_type": "code",
   "execution_count": null,
   "metadata": {},
   "outputs": [],
   "source": []
  }
 ],
 "metadata": {
  "kernelspec": {
   "display_name": "Python 3 (ipykernel)",
   "language": "python",
   "name": "python3"
  },
  "language_info": {
   "codemirror_mode": {
    "name": "ipython",
    "version": 3
   },
   "file_extension": ".py",
   "mimetype": "text/x-python",
   "name": "python",
   "nbconvert_exporter": "python",
   "pygments_lexer": "ipython3",
   "version": "3.7.6"
  }
 },
 "nbformat": 4,
 "nbformat_minor": 4
}

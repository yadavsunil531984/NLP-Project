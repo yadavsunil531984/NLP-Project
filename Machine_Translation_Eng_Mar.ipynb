{
 "cells": [
  {
   "cell_type": "raw",
   "metadata": {},
   "source": [
    "https://towardsdatascience.com/word-level-english-to-marathi-neural-machine-translation-using-seq2seq-encoder-decoder-lstm-model-1a913f2dc4a7"
   ]
  },
  {
   "cell_type": "code",
   "execution_count": 1,
   "metadata": {},
   "outputs": [
    {
     "name": "stderr",
     "output_type": "stream",
     "text": [
      "2023-05-23 20:34:09.474089: I tensorflow/core/platform/cpu_feature_guard.cc:193] This TensorFlow binary is optimized with oneAPI Deep Neural Network Library (oneDNN) to use the following CPU instructions in performance-critical operations:  AVX2 AVX512F FMA\n",
      "To enable them in other operations, rebuild TensorFlow with the appropriate compiler flags.\n",
      "2023-05-23 20:34:09.651269: W tensorflow/compiler/xla/stream_executor/platform/default/dso_loader.cc:64] Could not load dynamic library 'libcudart.so.11.0'; dlerror: libcudart.so.11.0: cannot open shared object file: No such file or directory\n",
      "2023-05-23 20:34:09.651312: I tensorflow/compiler/xla/stream_executor/cuda/cudart_stub.cc:29] Ignore above cudart dlerror if you do not have a GPU set up on your machine.\n",
      "2023-05-23 20:34:10.399412: W tensorflow/compiler/xla/stream_executor/platform/default/dso_loader.cc:64] Could not load dynamic library 'libnvinfer.so.7'; dlerror: libnvinfer.so.7: cannot open shared object file: No such file or directory\n",
      "2023-05-23 20:34:10.399490: W tensorflow/compiler/xla/stream_executor/platform/default/dso_loader.cc:64] Could not load dynamic library 'libnvinfer_plugin.so.7'; dlerror: libnvinfer_plugin.so.7: cannot open shared object file: No such file or directory\n",
      "2023-05-23 20:34:10.399501: W tensorflow/compiler/tf2tensorrt/utils/py_utils.cc:38] TF-TRT Warning: Cannot dlopen some TensorRT libraries. If you would like to use Nvidia GPU with TensorRT, please make sure the missing libraries mentioned above are installed properly.\n"
     ]
    }
   ],
   "source": [
    "import pandas as pd\n",
    "import numpy as np\n",
    "import string\n",
    "from string import digits\n",
    "import matplotlib.pyplot as plt\n",
    "import re\n",
    "from sklearn.utils import shuffle\n",
    "from sklearn.model_selection import train_test_split\n",
    "from keras.layers import Input, LSTM, Embedding, Dense\n",
    "from keras.models import Model"
   ]
  },
  {
   "cell_type": "code",
   "execution_count": 2,
   "metadata": {},
   "outputs": [],
   "source": [
    "lines= pd.read_table('mar.txt', names=['eng', 'mar','Details'])"
   ]
  },
  {
   "cell_type": "code",
   "execution_count": 3,
   "metadata": {},
   "outputs": [
    {
     "data": {
      "text/plain": [
       "(46966, 3)"
      ]
     },
     "execution_count": 3,
     "metadata": {},
     "output_type": "execute_result"
    }
   ],
   "source": [
    "lines.shape"
   ]
  },
  {
   "cell_type": "code",
   "execution_count": 4,
   "metadata": {},
   "outputs": [],
   "source": [
    "# Lowercase all characters\n",
    "lines.eng=lines.eng.apply(lambda x: x.lower())\n",
    "lines.mar=lines.mar.apply(lambda x: x.lower())"
   ]
  },
  {
   "cell_type": "code",
   "execution_count": 5,
   "metadata": {},
   "outputs": [],
   "source": [
    "# Remove quotes\n",
    "lines.eng=lines.eng.apply(lambda x: re.sub(\"'\", '', x))\n",
    "lines.mar=lines.mar.apply(lambda x: re.sub(\"'\", '', x))"
   ]
  },
  {
   "cell_type": "code",
   "execution_count": 6,
   "metadata": {},
   "outputs": [],
   "source": [
    "exclude = set(string.punctuation) # Set of all special characters\n",
    "# Remove all the special characters\n",
    "lines.eng=lines.eng.apply(lambda x: ''.join(ch for ch in x if ch not in exclude))\n",
    "lines.mar=lines.mar.apply(lambda x: ''.join(ch for ch in x if ch not in exclude))"
   ]
  },
  {
   "cell_type": "code",
   "execution_count": 7,
   "metadata": {},
   "outputs": [],
   "source": [
    "# Remove all numbers from text\n",
    "remove_digits = str.maketrans('', '', digits)\n",
    "lines.eng=lines.eng.apply(lambda x: x.translate(remove_digits))\n",
    "lines.mar = lines.mar.apply(lambda x: re.sub(\"[२३०८१५७९४६]\", \"\", x))"
   ]
  },
  {
   "cell_type": "code",
   "execution_count": 8,
   "metadata": {},
   "outputs": [],
   "source": [
    "# Remove extra spaces\n",
    "lines.eng=lines.eng.apply(lambda x: x.strip())\n",
    "lines.mar=lines.mar.apply(lambda x: x.strip())\n",
    "lines.eng=lines.eng.apply(lambda x: re.sub(\" +\", \" \", x))\n",
    "lines.mar=lines.mar.apply(lambda x: re.sub(\" +\", \" \", x))"
   ]
  },
  {
   "cell_type": "code",
   "execution_count": 9,
   "metadata": {},
   "outputs": [],
   "source": [
    "# Add start and end tokens to target sequences\n",
    "lines.mar = lines.mar.apply(lambda x : 'START_ '+ x + ' _END')"
   ]
  },
  {
   "cell_type": "code",
   "execution_count": 10,
   "metadata": {},
   "outputs": [
    {
     "data": {
      "text/html": [
       "<div>\n",
       "<style scoped>\n",
       "    .dataframe tbody tr th:only-of-type {\n",
       "        vertical-align: middle;\n",
       "    }\n",
       "\n",
       "    .dataframe tbody tr th {\n",
       "        vertical-align: top;\n",
       "    }\n",
       "\n",
       "    .dataframe thead th {\n",
       "        text-align: right;\n",
       "    }\n",
       "</style>\n",
       "<table border=\"1\" class=\"dataframe\">\n",
       "  <thead>\n",
       "    <tr style=\"text-align: right;\">\n",
       "      <th></th>\n",
       "      <th>eng</th>\n",
       "      <th>mar</th>\n",
       "      <th>Details</th>\n",
       "    </tr>\n",
       "  </thead>\n",
       "  <tbody>\n",
       "    <tr>\n",
       "      <th>45123</th>\n",
       "      <td>there is a strange man in front of the house</td>\n",
       "      <td>START_ घरासमोर एक विचित्र माणूस आहे _END</td>\n",
       "      <td>CC-BY 2.0 (France) Attribution: tatoeba.org #2...</td>\n",
       "    </tr>\n",
       "    <tr>\n",
       "      <th>37267</th>\n",
       "      <td>what exactly are we looking for</td>\n",
       "      <td>START_ आम्ही नक्की काय शोधत आहोत _END</td>\n",
       "      <td>CC-BY 2.0 (France) Attribution: tatoeba.org #2...</td>\n",
       "    </tr>\n",
       "    <tr>\n",
       "      <th>28049</th>\n",
       "      <td>are they talking about you</td>\n",
       "      <td>START_ ते तुमच्याबद्दल बोलत आहेत का _END</td>\n",
       "      <td>CC-BY 2.0 (France) Attribution: tatoeba.org #3...</td>\n",
       "    </tr>\n",
       "    <tr>\n",
       "      <th>22952</th>\n",
       "      <td>the waters really nice</td>\n",
       "      <td>START_ पाणी एकदम चांगलं आहे _END</td>\n",
       "      <td>CC-BY 2.0 (France) Attribution: tatoeba.org #2...</td>\n",
       "    </tr>\n",
       "    <tr>\n",
       "      <th>46206</th>\n",
       "      <td>if you take this medicine youll feel a lot better</td>\n",
       "      <td>START_ तुम्ही जर हे औषद घेतलंत तर तुम्हाला खूप...</td>\n",
       "      <td>CC-BY 2.0 (France) Attribution: tatoeba.org #1...</td>\n",
       "    </tr>\n",
       "    <tr>\n",
       "      <th>40504</th>\n",
       "      <td>i look young compared to my husband</td>\n",
       "      <td>START_ मी माझ्या पतीसमोर तरुण दिसते _END</td>\n",
       "      <td>CC-BY 2.0 (France) Attribution: tatoeba.org #5...</td>\n",
       "    </tr>\n",
       "    <tr>\n",
       "      <th>35370</th>\n",
       "      <td>i live next to an old bookshop</td>\n",
       "      <td>START_ मी पुस्तकांच्या एका जुन्या दुकानाच्या ब...</td>\n",
       "      <td>CC-BY 2.0 (France) Attribution: tatoeba.org #7...</td>\n",
       "    </tr>\n",
       "    <tr>\n",
       "      <th>34197</th>\n",
       "      <td>my sister is younger than you</td>\n",
       "      <td>START_ माझी बहीण तुझ्यापेक्षा वयाने लहान आहे _END</td>\n",
       "      <td>CC-BY 2.0 (France) Attribution: tatoeba.org #1...</td>\n",
       "    </tr>\n",
       "    <tr>\n",
       "      <th>32274</th>\n",
       "      <td>i have to tell tom something</td>\n",
       "      <td>START_ मला टॉमला काहीतरी सांगायचं आहे _END</td>\n",
       "      <td>CC-BY 2.0 (France) Attribution: tatoeba.org #2...</td>\n",
       "    </tr>\n",
       "    <tr>\n",
       "      <th>30213</th>\n",
       "      <td>he is much taller than i am</td>\n",
       "      <td>START_ तो माझ्यापेक्षा खूपच उंच आहे _END</td>\n",
       "      <td>CC-BY 2.0 (France) Attribution: tatoeba.org #3...</td>\n",
       "    </tr>\n",
       "  </tbody>\n",
       "</table>\n",
       "</div>"
      ],
      "text/plain": [
       "                                                     eng  \\\n",
       "45123       there is a strange man in front of the house   \n",
       "37267                    what exactly are we looking for   \n",
       "28049                         are they talking about you   \n",
       "22952                             the waters really nice   \n",
       "46206  if you take this medicine youll feel a lot better   \n",
       "40504                i look young compared to my husband   \n",
       "35370                     i live next to an old bookshop   \n",
       "34197                      my sister is younger than you   \n",
       "32274                       i have to tell tom something   \n",
       "30213                        he is much taller than i am   \n",
       "\n",
       "                                                     mar  \\\n",
       "45123           START_ घरासमोर एक विचित्र माणूस आहे _END   \n",
       "37267              START_ आम्ही नक्की काय शोधत आहोत _END   \n",
       "28049           START_ ते तुमच्याबद्दल बोलत आहेत का _END   \n",
       "22952                   START_ पाणी एकदम चांगलं आहे _END   \n",
       "46206  START_ तुम्ही जर हे औषद घेतलंत तर तुम्हाला खूप...   \n",
       "40504           START_ मी माझ्या पतीसमोर तरुण दिसते _END   \n",
       "35370  START_ मी पुस्तकांच्या एका जुन्या दुकानाच्या ब...   \n",
       "34197  START_ माझी बहीण तुझ्यापेक्षा वयाने लहान आहे _END   \n",
       "32274         START_ मला टॉमला काहीतरी सांगायचं आहे _END   \n",
       "30213           START_ तो माझ्यापेक्षा खूपच उंच आहे _END   \n",
       "\n",
       "                                                 Details  \n",
       "45123  CC-BY 2.0 (France) Attribution: tatoeba.org #2...  \n",
       "37267  CC-BY 2.0 (France) Attribution: tatoeba.org #2...  \n",
       "28049  CC-BY 2.0 (France) Attribution: tatoeba.org #3...  \n",
       "22952  CC-BY 2.0 (France) Attribution: tatoeba.org #2...  \n",
       "46206  CC-BY 2.0 (France) Attribution: tatoeba.org #1...  \n",
       "40504  CC-BY 2.0 (France) Attribution: tatoeba.org #5...  \n",
       "35370  CC-BY 2.0 (France) Attribution: tatoeba.org #7...  \n",
       "34197  CC-BY 2.0 (France) Attribution: tatoeba.org #1...  \n",
       "32274  CC-BY 2.0 (France) Attribution: tatoeba.org #2...  \n",
       "30213  CC-BY 2.0 (France) Attribution: tatoeba.org #3...  "
      ]
     },
     "execution_count": 10,
     "metadata": {},
     "output_type": "execute_result"
    }
   ],
   "source": [
    "lines.sample(10)"
   ]
  },
  {
   "cell_type": "code",
   "execution_count": 11,
   "metadata": {},
   "outputs": [],
   "source": [
    "# Vocabulary of English\n",
    "all_eng_words=set()\n",
    "for eng in lines.eng:\n",
    "    for word in eng.split():\n",
    "        if word not in all_eng_words:\n",
    "            all_eng_words.add(word)\n",
    "\n",
    "# Vocabulary of French \n",
    "all_marathi_words=set()\n",
    "for mar in lines.mar:\n",
    "    for word in mar.split():\n",
    "        if word not in all_marathi_words:\n",
    "            all_marathi_words.add(word)"
   ]
  },
  {
   "cell_type": "code",
   "execution_count": 12,
   "metadata": {},
   "outputs": [
    {
     "data": {
      "text/plain": [
       "34"
      ]
     },
     "execution_count": 12,
     "metadata": {},
     "output_type": "execute_result"
    }
   ],
   "source": [
    "# Max Length of source sequence\n",
    "lenght_list=[]\n",
    "for l in lines.eng:\n",
    "    lenght_list.append(len(l.split(' ')))\n",
    "max_length_src = np.max(lenght_list)\n",
    "max_length_src"
   ]
  },
  {
   "cell_type": "code",
   "execution_count": 13,
   "metadata": {},
   "outputs": [
    {
     "data": {
      "text/plain": [
       "37"
      ]
     },
     "execution_count": 13,
     "metadata": {},
     "output_type": "execute_result"
    }
   ],
   "source": [
    "# Max Length of target sequence\n",
    "lenght_list=[]\n",
    "for l in lines.mar:\n",
    "    lenght_list.append(len(l.split(' ')))\n",
    "max_length_tar = np.max(lenght_list)\n",
    "max_length_tar"
   ]
  },
  {
   "cell_type": "code",
   "execution_count": 14,
   "metadata": {},
   "outputs": [
    {
     "data": {
      "text/plain": [
       "(5847, 14410)"
      ]
     },
     "execution_count": 14,
     "metadata": {},
     "output_type": "execute_result"
    }
   ],
   "source": [
    "input_words = sorted(list(all_eng_words))\n",
    "target_words = sorted(list(all_marathi_words))\n",
    "num_encoder_tokens = len(all_eng_words)\n",
    "num_decoder_tokens = len(all_marathi_words)\n",
    "num_encoder_tokens, num_decoder_tokens"
   ]
  },
  {
   "cell_type": "code",
   "execution_count": 15,
   "metadata": {},
   "outputs": [],
   "source": [
    "num_decoder_tokens += 1 #for zero padding\n",
    "num_encoder_tokens = num_encoder_tokens + 1"
   ]
  },
  {
   "cell_type": "code",
   "execution_count": 16,
   "metadata": {},
   "outputs": [],
   "source": [
    "input_token_index = dict([(word, i+1) for i, word in enumerate(input_words)])\n",
    "target_token_index = dict([(word, i+1) for i, word in enumerate(target_words)])"
   ]
  },
  {
   "cell_type": "code",
   "execution_count": 17,
   "metadata": {},
   "outputs": [],
   "source": [
    "reverse_input_char_index = dict((i, word) for word, i in input_token_index.items())\n",
    "reverse_target_char_index = dict((i, word) for word, i in target_token_index.items())"
   ]
  },
  {
   "cell_type": "code",
   "execution_count": 18,
   "metadata": {},
   "outputs": [
    {
     "data": {
      "text/html": [
       "<div>\n",
       "<style scoped>\n",
       "    .dataframe tbody tr th:only-of-type {\n",
       "        vertical-align: middle;\n",
       "    }\n",
       "\n",
       "    .dataframe tbody tr th {\n",
       "        vertical-align: top;\n",
       "    }\n",
       "\n",
       "    .dataframe thead th {\n",
       "        text-align: right;\n",
       "    }\n",
       "</style>\n",
       "<table border=\"1\" class=\"dataframe\">\n",
       "  <thead>\n",
       "    <tr style=\"text-align: right;\">\n",
       "      <th></th>\n",
       "      <th>eng</th>\n",
       "      <th>mar</th>\n",
       "      <th>Details</th>\n",
       "    </tr>\n",
       "  </thead>\n",
       "  <tbody>\n",
       "    <tr>\n",
       "      <th>45543</th>\n",
       "      <td>tom called me yesterday at nine in the morning</td>\n",
       "      <td>START_ टॉमने काल मला सकाळी नऊ वाजता बोलवलं _END</td>\n",
       "      <td>CC-BY 2.0 (France) Attribution: tatoeba.org #5...</td>\n",
       "    </tr>\n",
       "    <tr>\n",
       "      <th>9397</th>\n",
       "      <td>tom works at home</td>\n",
       "      <td>START_ टॉम घरी काम करतो _END</td>\n",
       "      <td>CC-BY 2.0 (France) Attribution: tatoeba.org #1...</td>\n",
       "    </tr>\n",
       "    <tr>\n",
       "      <th>27482</th>\n",
       "      <td>tom is one of my students</td>\n",
       "      <td>START_ टॉम माझा एक विद्यार्थी आहे _END</td>\n",
       "      <td>CC-BY 2.0 (France) Attribution: tatoeba.org #2...</td>\n",
       "    </tr>\n",
       "    <tr>\n",
       "      <th>45456</th>\n",
       "      <td>i thought you were going to wear your new suit</td>\n",
       "      <td>START_ माझा असा विचार होता की तुम्ही तुमचा नवी...</td>\n",
       "      <td>CC-BY 2.0 (France) Attribution: tatoeba.org #1...</td>\n",
       "    </tr>\n",
       "    <tr>\n",
       "      <th>19516</th>\n",
       "      <td>are these bananas ripe</td>\n",
       "      <td>START_ ही केळी पिकली आहेत का _END</td>\n",
       "      <td>CC-BY 2.0 (France) Attribution: tatoeba.org #6...</td>\n",
       "    </tr>\n",
       "    <tr>\n",
       "      <th>17924</th>\n",
       "      <td>i urgently need a job</td>\n",
       "      <td>START_ मला तातडीने नोकरीची गरज आहे _END</td>\n",
       "      <td>CC-BY 2.0 (France) Attribution: tatoeba.org #5...</td>\n",
       "    </tr>\n",
       "    <tr>\n",
       "      <th>22924</th>\n",
       "      <td>the engine doesnt work</td>\n",
       "      <td>START_ इंजिन चालत नाही _END</td>\n",
       "      <td>CC-BY 2.0 (France) Attribution: tatoeba.org #6...</td>\n",
       "    </tr>\n",
       "    <tr>\n",
       "      <th>23516</th>\n",
       "      <td>what are we going to do</td>\n",
       "      <td>START_ आपण काय करणार आहोत _END</td>\n",
       "      <td>CC-BY 2.0 (France) Attribution: tatoeba.org #1...</td>\n",
       "    </tr>\n",
       "    <tr>\n",
       "      <th>29196</th>\n",
       "      <td>the meeting started at ten</td>\n",
       "      <td>START_ मीटिंग दहा वाजता सुरू झाली _END</td>\n",
       "      <td>CC-BY 2.0 (France) Attribution: tatoeba.org #2...</td>\n",
       "    </tr>\n",
       "    <tr>\n",
       "      <th>1527</th>\n",
       "      <td>get my rifle</td>\n",
       "      <td>START_ माझी रायफल आण _END</td>\n",
       "      <td>CC-BY 2.0 (France) Attribution: tatoeba.org #1...</td>\n",
       "    </tr>\n",
       "  </tbody>\n",
       "</table>\n",
       "</div>"
      ],
      "text/plain": [
       "                                                  eng  \\\n",
       "45543  tom called me yesterday at nine in the morning   \n",
       "9397                                tom works at home   \n",
       "27482                       tom is one of my students   \n",
       "45456  i thought you were going to wear your new suit   \n",
       "19516                          are these bananas ripe   \n",
       "17924                           i urgently need a job   \n",
       "22924                          the engine doesnt work   \n",
       "23516                         what are we going to do   \n",
       "29196                      the meeting started at ten   \n",
       "1527                                     get my rifle   \n",
       "\n",
       "                                                     mar  \\\n",
       "45543    START_ टॉमने काल मला सकाळी नऊ वाजता बोलवलं _END   \n",
       "9397                        START_ टॉम घरी काम करतो _END   \n",
       "27482             START_ टॉम माझा एक विद्यार्थी आहे _END   \n",
       "45456  START_ माझा असा विचार होता की तुम्ही तुमचा नवी...   \n",
       "19516                  START_ ही केळी पिकली आहेत का _END   \n",
       "17924            START_ मला तातडीने नोकरीची गरज आहे _END   \n",
       "22924                        START_ इंजिन चालत नाही _END   \n",
       "23516                     START_ आपण काय करणार आहोत _END   \n",
       "29196             START_ मीटिंग दहा वाजता सुरू झाली _END   \n",
       "1527                           START_ माझी रायफल आण _END   \n",
       "\n",
       "                                                 Details  \n",
       "45543  CC-BY 2.0 (France) Attribution: tatoeba.org #5...  \n",
       "9397   CC-BY 2.0 (France) Attribution: tatoeba.org #1...  \n",
       "27482  CC-BY 2.0 (France) Attribution: tatoeba.org #2...  \n",
       "45456  CC-BY 2.0 (France) Attribution: tatoeba.org #1...  \n",
       "19516  CC-BY 2.0 (France) Attribution: tatoeba.org #6...  \n",
       "17924  CC-BY 2.0 (France) Attribution: tatoeba.org #5...  \n",
       "22924  CC-BY 2.0 (France) Attribution: tatoeba.org #6...  \n",
       "23516  CC-BY 2.0 (France) Attribution: tatoeba.org #1...  \n",
       "29196  CC-BY 2.0 (France) Attribution: tatoeba.org #2...  \n",
       "1527   CC-BY 2.0 (France) Attribution: tatoeba.org #1...  "
      ]
     },
     "execution_count": 18,
     "metadata": {},
     "output_type": "execute_result"
    }
   ],
   "source": [
    "lines = shuffle(lines)\n",
    "lines.head(10)"
   ]
  },
  {
   "cell_type": "code",
   "execution_count": 19,
   "metadata": {},
   "outputs": [
    {
     "data": {
      "text/plain": [
       "((37572,), (9394,))"
      ]
     },
     "execution_count": 19,
     "metadata": {},
     "output_type": "execute_result"
    }
   ],
   "source": [
    "# Train - Test Split\n",
    "X, y = lines.eng, lines.mar\n",
    "X_train, X_test, y_train, y_test = train_test_split(X, y, test_size = 0.2)\n",
    "X_train.shape, X_test.shape"
   ]
  },
  {
   "cell_type": "code",
   "execution_count": 22,
   "metadata": {},
   "outputs": [],
   "source": [
    "X_train.to_pickle('X_train_mar.pkl')\n",
    "X_test.to_pickle('X_test_mar.pkl')"
   ]
  },
  {
   "cell_type": "code",
   "execution_count": 23,
   "metadata": {},
   "outputs": [],
   "source": [
    "def generate_batch(X = X_train, y = y_train, batch_size = 128):\n",
    "    ''' Generate a batch of data '''\n",
    "    while True:\n",
    "        for j in range(0, len(X), batch_size):\n",
    "            encoder_input_data = np.zeros((batch_size, max_length_src),dtype='float32')\n",
    "            decoder_input_data = np.zeros((batch_size, max_length_tar),dtype='float32')\n",
    "            decoder_target_data = np.zeros((batch_size, max_length_tar, num_decoder_tokens),dtype='float32')\n",
    "            for i, (input_text, target_text) in enumerate(zip(X[j:j+batch_size], y[j:j+batch_size])):\n",
    "                for t, word in enumerate(input_text.split()):\n",
    "                    encoder_input_data[i, t] = input_token_index[word] # encoder input seq\n",
    "                for t, word in enumerate(target_text.split()):\n",
    "                    if t<len(target_text.split())-1:\n",
    "                        decoder_input_data[i, t] = target_token_index[word] # decoder input seq\n",
    "                    if t>0:\n",
    "                        # decoder target sequence (one hot encoded)\n",
    "                        # does not include the START_ token\n",
    "                        # Offset by one timestep\n",
    "                        decoder_target_data[i, t - 1, target_token_index[word]] = 1.\n",
    "            yield([encoder_input_data, decoder_input_data], decoder_target_data)"
   ]
  },
  {
   "cell_type": "code",
   "execution_count": 24,
   "metadata": {},
   "outputs": [],
   "source": [
    "## Encoder - Decoder Model Architecture"
   ]
  },
  {
   "cell_type": "code",
   "execution_count": 25,
   "metadata": {},
   "outputs": [],
   "source": [
    "latent_dim = 50"
   ]
  },
  {
   "cell_type": "code",
   "execution_count": 26,
   "metadata": {},
   "outputs": [
    {
     "name": "stderr",
     "output_type": "stream",
     "text": [
      "2023-05-23 20:35:51.745669: W tensorflow/compiler/xla/stream_executor/platform/default/dso_loader.cc:64] Could not load dynamic library 'libcuda.so.1'; dlerror: libcuda.so.1: cannot open shared object file: No such file or directory\n",
      "2023-05-23 20:35:51.745705: W tensorflow/compiler/xla/stream_executor/cuda/cuda_driver.cc:265] failed call to cuInit: UNKNOWN ERROR (303)\n",
      "2023-05-23 20:35:51.745730: I tensorflow/compiler/xla/stream_executor/cuda/cuda_diagnostics.cc:156] kernel driver does not appear to be running on this host (csis-ProLiant-DL380-Gen10): /proc/driver/nvidia/version does not exist\n",
      "2023-05-23 20:35:51.746092: I tensorflow/core/platform/cpu_feature_guard.cc:193] This TensorFlow binary is optimized with oneAPI Deep Neural Network Library (oneDNN) to use the following CPU instructions in performance-critical operations:  AVX2 AVX512F FMA\n",
      "To enable them in other operations, rebuild TensorFlow with the appropriate compiler flags.\n"
     ]
    }
   ],
   "source": [
    "# Encoder\n",
    "encoder_inputs = Input(shape=(None,))\n",
    "enc_emb =  Embedding(num_encoder_tokens, latent_dim, mask_zero = True)(encoder_inputs)\n",
    "encoder_lstm = LSTM(latent_dim, return_state=True)\n",
    "encoder_outputs, state_h, state_c = encoder_lstm(enc_emb)\n",
    "# We discard `encoder_outputs` and only keep the states.\n",
    "encoder_states = [state_h, state_c]"
   ]
  },
  {
   "cell_type": "code",
   "execution_count": 27,
   "metadata": {},
   "outputs": [],
   "source": [
    "# Set up the decoder, using `encoder_states` as initial state.\n",
    "decoder_inputs = Input(shape=(None,))\n",
    "dec_emb_layer = Embedding(num_decoder_tokens, latent_dim, mask_zero = True)\n",
    "dec_emb = dec_emb_layer(decoder_inputs)\n",
    "# We set up our decoder to return full output sequences,\n",
    "# and to return internal states as well. We don't use the\n",
    "# return states in the training model, but we will use them in inference.\n",
    "decoder_lstm = LSTM(latent_dim, return_sequences=True, return_state=True)\n",
    "decoder_outputs, _, _ = decoder_lstm(dec_emb,\n",
    "                                     initial_state=encoder_states)\n",
    "decoder_dense = Dense(num_decoder_tokens, activation='softmax')\n",
    "decoder_outputs = decoder_dense(decoder_outputs)\n",
    "\n",
    "# Define the model that will turn\n",
    "# `encoder_input_data` & `decoder_input_data` into `decoder_target_data`\n",
    "model = Model([encoder_inputs, decoder_inputs], decoder_outputs)"
   ]
  },
  {
   "cell_type": "code",
   "execution_count": 28,
   "metadata": {},
   "outputs": [],
   "source": [
    "model.compile(optimizer='rmsprop', loss='categorical_crossentropy', metrics=['acc'])"
   ]
  },
  {
   "cell_type": "raw",
   "metadata": {},
   "source": [
    "from IPython.display import Image\n",
    "Image(retina=True, filename='train_model.png')"
   ]
  },
  {
   "cell_type": "code",
   "execution_count": 30,
   "metadata": {},
   "outputs": [],
   "source": [
    "train_samples = len(X_train)\n",
    "val_samples = len(X_test)\n",
    "batch_size = 128\n",
    "epochs = 50"
   ]
  },
  {
   "cell_type": "code",
   "execution_count": 31,
   "metadata": {},
   "outputs": [
    {
     "name": "stderr",
     "output_type": "stream",
     "text": [
      "/home/sunil/sunil2_env/lib/python3.7/site-packages/ipykernel_launcher.py:5: UserWarning: `Model.fit_generator` is deprecated and will be removed in a future version. Please use `Model.fit`, which supports generators.\n",
      "  \"\"\"\n"
     ]
    },
    {
     "name": "stdout",
     "output_type": "stream",
     "text": [
      "Epoch 1/50\n",
      "293/293 [==============================] - 335s 1s/step - loss: 7.1231 - acc: 0.1748 - val_loss: 6.3431 - val_acc: 0.1753\n",
      "Epoch 2/50\n",
      "293/293 [==============================] - 324s 1s/step - loss: 6.2943 - acc: 0.1757 - val_loss: 6.2296 - val_acc: 0.1753\n",
      "Epoch 3/50\n",
      "293/293 [==============================] - 323s 1s/step - loss: 6.1629 - acc: 0.1757 - val_loss: 6.1224 - val_acc: 0.1753\n",
      "Epoch 4/50\n",
      "293/293 [==============================] - 325s 1s/step - loss: 5.9987 - acc: 0.1758 - val_loss: 5.8824 - val_acc: 0.1790\n",
      "Epoch 5/50\n",
      "293/293 [==============================] - 323s 1s/step - loss: 5.7258 - acc: 0.2044 - val_loss: 5.6187 - val_acc: 0.2167\n",
      "Epoch 6/50\n",
      "293/293 [==============================] - 324s 1s/step - loss: 5.5251 - acc: 0.2257 - val_loss: 5.4762 - val_acc: 0.2321\n",
      "Epoch 7/50\n",
      "293/293 [==============================] - 324s 1s/step - loss: 5.4046 - acc: 0.2355 - val_loss: 5.3843 - val_acc: 0.2373\n",
      "Epoch 8/50\n",
      "293/293 [==============================] - 324s 1s/step - loss: 5.3120 - acc: 0.2411 - val_loss: 5.3056 - val_acc: 0.2424\n",
      "Epoch 9/50\n",
      "293/293 [==============================] - 324s 1s/step - loss: 5.2246 - acc: 0.2478 - val_loss: 5.2277 - val_acc: 0.2494\n",
      "Epoch 10/50\n",
      "293/293 [==============================] - 325s 1s/step - loss: 5.1362 - acc: 0.2567 - val_loss: 5.1446 - val_acc: 0.2630\n",
      "Epoch 11/50\n",
      "293/293 [==============================] - 323s 1s/step - loss: 5.0429 - acc: 0.2709 - val_loss: 5.0572 - val_acc: 0.2720\n",
      "Epoch 12/50\n",
      "293/293 [==============================] - 324s 1s/step - loss: 4.9503 - acc: 0.2790 - val_loss: 4.9726 - val_acc: 0.2800\n",
      "Epoch 13/50\n",
      "293/293 [==============================] - 324s 1s/step - loss: 4.8587 - acc: 0.2872 - val_loss: 4.8906 - val_acc: 0.2886\n",
      "Epoch 14/50\n",
      "293/293 [==============================] - 324s 1s/step - loss: 4.7699 - acc: 0.2964 - val_loss: 4.8145 - val_acc: 0.2969\n",
      "Epoch 15/50\n",
      "293/293 [==============================] - 325s 1s/step - loss: 4.6863 - acc: 0.3057 - val_loss: 4.7407 - val_acc: 0.3074\n",
      "Epoch 16/50\n",
      "293/293 [==============================] - 322s 1s/step - loss: 4.6039 - acc: 0.3150 - val_loss: 4.6663 - val_acc: 0.3173\n",
      "Epoch 17/50\n",
      "293/293 [==============================] - 324s 1s/step - loss: 4.5239 - acc: 0.3250 - val_loss: 4.6025 - val_acc: 0.3251\n",
      "Epoch 18/50\n",
      "293/293 [==============================] - 325s 1s/step - loss: 4.4421 - acc: 0.3353 - val_loss: 4.5321 - val_acc: 0.3342\n",
      "Epoch 19/50\n",
      "293/293 [==============================] - 324s 1s/step - loss: 4.3663 - acc: 0.3450 - val_loss: 4.4670 - val_acc: 0.3414\n",
      "Epoch 20/50\n",
      "293/293 [==============================] - 323s 1s/step - loss: 4.2924 - acc: 0.3533 - val_loss: 4.4089 - val_acc: 0.3479\n",
      "Epoch 21/50\n",
      "293/293 [==============================] - 325s 1s/step - loss: 4.2227 - acc: 0.3612 - val_loss: 4.3553 - val_acc: 0.3537\n",
      "Epoch 22/50\n",
      "293/293 [==============================] - 324s 1s/step - loss: 4.1550 - acc: 0.3690 - val_loss: 4.2994 - val_acc: 0.3607\n",
      "Epoch 23/50\n",
      "293/293 [==============================] - 324s 1s/step - loss: 4.0872 - acc: 0.3767 - val_loss: 4.2445 - val_acc: 0.3647\n",
      "Epoch 24/50\n",
      "293/293 [==============================] - 324s 1s/step - loss: 4.0225 - acc: 0.3841 - val_loss: 4.1940 - val_acc: 0.3704\n",
      "Epoch 25/50\n",
      "293/293 [==============================] - 324s 1s/step - loss: 3.9604 - acc: 0.3910 - val_loss: 4.1474 - val_acc: 0.3756\n",
      "Epoch 26/50\n",
      "293/293 [==============================] - 324s 1s/step - loss: 3.9008 - acc: 0.3975 - val_loss: 4.1047 - val_acc: 0.3805\n",
      "Epoch 27/50\n",
      "293/293 [==============================] - 324s 1s/step - loss: 3.8427 - acc: 0.4043 - val_loss: 4.0582 - val_acc: 0.3859\n",
      "Epoch 28/50\n",
      "293/293 [==============================] - 325s 1s/step - loss: 3.7880 - acc: 0.4104 - val_loss: 4.0203 - val_acc: 0.3912\n",
      "Epoch 29/50\n",
      "293/293 [==============================] - 326s 1s/step - loss: 3.7350 - acc: 0.4164 - val_loss: 3.9798 - val_acc: 0.3933\n",
      "Epoch 30/50\n",
      "293/293 [==============================] - 327s 1s/step - loss: 3.6831 - acc: 0.4220 - val_loss: 3.9410 - val_acc: 0.3995\n",
      "Epoch 31/50\n",
      "293/293 [==============================] - 326s 1s/step - loss: 3.6340 - acc: 0.4273 - val_loss: 3.9147 - val_acc: 0.4001\n",
      "Epoch 32/50\n",
      "293/293 [==============================] - 328s 1s/step - loss: 3.5855 - acc: 0.4326 - val_loss: 3.8697 - val_acc: 0.4066\n",
      "Epoch 33/50\n",
      "293/293 [==============================] - 326s 1s/step - loss: 3.5393 - acc: 0.4376 - val_loss: 3.8439 - val_acc: 0.4082\n",
      "Epoch 34/50\n",
      "293/293 [==============================] - 327s 1s/step - loss: 3.4942 - acc: 0.4431 - val_loss: 3.8119 - val_acc: 0.4130\n",
      "Epoch 35/50\n",
      "293/293 [==============================] - 327s 1s/step - loss: 3.4513 - acc: 0.4476 - val_loss: 3.7871 - val_acc: 0.4137\n",
      "Epoch 36/50\n",
      "293/293 [==============================] - 325s 1s/step - loss: 3.4097 - acc: 0.4525 - val_loss: 3.7508 - val_acc: 0.4196\n",
      "Epoch 37/50\n",
      "293/293 [==============================] - 326s 1s/step - loss: 3.3700 - acc: 0.4564 - val_loss: 3.7190 - val_acc: 0.4226\n",
      "Epoch 38/50\n",
      "293/293 [==============================] - 325s 1s/step - loss: 3.3313 - acc: 0.4609 - val_loss: 3.6953 - val_acc: 0.4251\n",
      "Epoch 39/50\n",
      "293/293 [==============================] - 326s 1s/step - loss: 3.2940 - acc: 0.4650 - val_loss: 3.6731 - val_acc: 0.4286\n",
      "Epoch 40/50\n",
      "293/293 [==============================] - 325s 1s/step - loss: 3.2573 - acc: 0.4690 - val_loss: 3.6452 - val_acc: 0.4310\n",
      "Epoch 41/50\n",
      "293/293 [==============================] - 324s 1s/step - loss: 3.2225 - acc: 0.4732 - val_loss: 3.6264 - val_acc: 0.4324\n",
      "Epoch 42/50\n",
      "293/293 [==============================] - 324s 1s/step - loss: 3.1893 - acc: 0.4766 - val_loss: 3.6015 - val_acc: 0.4363\n",
      "Epoch 43/50\n",
      "293/293 [==============================] - 326s 1s/step - loss: 3.1558 - acc: 0.4807 - val_loss: 3.5868 - val_acc: 0.4367\n",
      "Epoch 44/50\n",
      "293/293 [==============================] - 325s 1s/step - loss: 3.1238 - acc: 0.4841 - val_loss: 3.5642 - val_acc: 0.4398\n",
      "Epoch 45/50\n",
      "293/293 [==============================] - 325s 1s/step - loss: 3.0915 - acc: 0.4880 - val_loss: 3.5481 - val_acc: 0.4412\n",
      "Epoch 46/50\n",
      "293/293 [==============================] - 324s 1s/step - loss: 3.0599 - acc: 0.4920 - val_loss: 3.5330 - val_acc: 0.4418\n",
      "Epoch 47/50\n",
      "293/293 [==============================] - 326s 1s/step - loss: 3.0289 - acc: 0.4955 - val_loss: 3.5056 - val_acc: 0.4456\n",
      "Epoch 48/50\n",
      "293/293 [==============================] - 324s 1s/step - loss: 2.9993 - acc: 0.4991 - val_loss: 3.4816 - val_acc: 0.4483\n",
      "Epoch 49/50\n",
      "293/293 [==============================] - 327s 1s/step - loss: 2.9695 - acc: 0.5028 - val_loss: 3.4642 - val_acc: 0.4510\n",
      "Epoch 50/50\n",
      "293/293 [==============================] - 324s 1s/step - loss: 2.9415 - acc: 0.5061 - val_loss: 3.4470 - val_acc: 0.4538\n",
      "CPU times: user 2d 18h 42min 43s, sys: 14h 49min 19s, total: 3d 9h 32min 3s\n",
      "Wall time: 4h 30min 48s\n"
     ]
    }
   ],
   "source": [
    "%%time\n",
    "history = model.fit_generator(generator = generate_batch(X_train, y_train, batch_size = batch_size),\n",
    "                    steps_per_epoch = train_samples//batch_size,\n",
    "                    epochs=epochs,\n",
    "                    validation_data = generate_batch(X_test, y_test, batch_size = batch_size),\n",
    "                    validation_steps = val_samples//batch_size)"
   ]
  },
  {
   "cell_type": "code",
   "execution_count": 32,
   "metadata": {},
   "outputs": [],
   "source": [
    "model.save('MT_Eng_Mar.h5')"
   ]
  },
  {
   "cell_type": "code",
   "execution_count": 33,
   "metadata": {},
   "outputs": [
    {
     "data": {
      "image/png": "[encoded data removed]",
      "text/plain": [
       "<Figure size 640x480 with 1 Axes>"
      ]
     },
     "metadata": {},
     "output_type": "display_data"
    }
   ],
   "source": [
    "# Get the training and validation loss values\n",
    "training_loss = history.history['loss']\n",
    "validation_loss = history.history['val_loss']\n",
    "# Plot the loss curve\n",
    "epochs = range(1, len(training_loss) + 1)\n",
    "plt.plot(epochs, training_loss, 'b', label='Training Loss')\n",
    "plt.plot(epochs, validation_loss, 'r', label='Validation Loss')\n",
    "plt.title('Training and Validation Loss')\n",
    "plt.xlabel('Epochs')\n",
    "plt.ylabel('Loss')\n",
    "plt.legend()\n",
    "plt.show()"
   ]
  },
  {
   "cell_type": "code",
   "execution_count": 34,
   "metadata": {},
   "outputs": [],
   "source": [
    "# Encode the input sequence to get the \"thought vectors\"\n",
    "encoder_model = Model(encoder_inputs, encoder_states)\n",
    "\n",
    "# Decoder setup\n",
    "# Below tensors will hold the states of the previous time step\n",
    "decoder_state_input_h = Input(shape=(latent_dim,))\n",
    "decoder_state_input_c = Input(shape=(latent_dim,))\n",
    "decoder_states_inputs = [decoder_state_input_h, decoder_state_input_c]\n",
    "\n",
    "dec_emb2= dec_emb_layer(decoder_inputs) # Get the embeddings of the decoder sequence\n",
    "\n",
    "# To predict the next word in the sequence, set the initial states to the states from the previous time step\n",
    "decoder_outputs2, state_h2, state_c2 = decoder_lstm(dec_emb2, initial_state=decoder_states_inputs)\n",
    "decoder_states2 = [state_h2, state_c2]\n",
    "decoder_outputs2 = decoder_dense(decoder_outputs2) # A dense softmax layer to generate prob dist. over the target vocabulary\n",
    "\n",
    "# Final decoder model\n",
    "decoder_model = Model(\n",
    "    [decoder_inputs] + decoder_states_inputs,\n",
    "    [decoder_outputs2] + decoder_states2)\n"
   ]
  },
  {
   "cell_type": "code",
   "execution_count": 35,
   "metadata": {},
   "outputs": [],
   "source": [
    "def decode_sequence(input_seq):\n",
    "    # Encode the input as state vectors.\n",
    "    states_value = encoder_model.predict(input_seq)\n",
    "    # Generate empty target sequence of length 1.\n",
    "    target_seq = np.zeros((1,1))\n",
    "    # Populate the first character of target sequence with the start character.\n",
    "    target_seq[0, 0] = target_token_index['START_']\n",
    "\n",
    "    # Sampling loop for a batch of sequences\n",
    "    # (to simplify, here we assume a batch of size 1).\n",
    "    stop_condition = False\n",
    "    decoded_sentence = ''\n",
    "    while not stop_condition:\n",
    "        output_tokens, h, c = decoder_model.predict([target_seq] + states_value)\n",
    "\n",
    "        # Sample a token\n",
    "        sampled_token_index = np.argmax(output_tokens[0, -1, :])\n",
    "        sampled_char = reverse_target_char_index[sampled_token_index]\n",
    "        decoded_sentence += ' '+sampled_char\n",
    "\n",
    "        # Exit condition: either hit max length\n",
    "        # or find stop character.\n",
    "        if (sampled_char == '_END' or\n",
    "           len(decoded_sentence) > 50):\n",
    "            stop_condition = True\n",
    "\n",
    "        # Update the target sequence (of length 1).\n",
    "        target_seq = np.zeros((1,1))\n",
    "        target_seq[0, 0] = sampled_token_index\n",
    "\n",
    "        # Update states\n",
    "        states_value = [h, c]\n",
    "\n",
    "    return decoded_sentence"
   ]
  },
  {
   "cell_type": "code",
   "execution_count": 36,
   "metadata": {},
   "outputs": [],
   "source": [
    "import sacrebleu\n",
    "def calculate_bleu(reference, hypothesis):\n",
    "    bleu = sacrebleu.corpus_bleu(hypothesis, [reference])\n",
    "     # Print the BLEU score\n",
    "    x = bleu.score/100\n",
    "    print(\"BLEU Score:\",x) "
   ]
  },
  {
   "cell_type": "code",
   "execution_count": 37,
   "metadata": {},
   "outputs": [],
   "source": [
    "train_gen = generate_batch(X_train, y_train, batch_size = 1)\n",
    "k=-1"
   ]
  },
  {
   "cell_type": "code",
   "execution_count": 38,
   "metadata": {},
   "outputs": [
    {
     "name": "stdout",
     "output_type": "stream",
     "text": [
      "1/1 [==============================] - 1s 1s/step\n",
      "1/1 [==============================] - 1s 1s/step\n",
      "1/1 [==============================] - 0s 24ms/step\n",
      "1/1 [==============================] - 0s 24ms/step\n",
      "1/1 [==============================] - 0s 24ms/step\n",
      "1/1 [==============================] - 0s 24ms/step\n",
      "1/1 [==============================] - 0s 24ms/step\n",
      "Input English sentence: im home almost every night\n",
      "Actual Marathi Translation: [' मी जवळजवळ प्रत्येक रात्री घरी असते ']\n",
      "Predicted Marathi Translation: [' मी जवळजवळ घरी फोन करेन ']\n",
      "BLEU Score: 0.193576934939088\n"
     ]
    }
   ],
   "source": [
    "k+=1\n",
    "(input_seq, actual_output), _ = next(train_gen)\n",
    "decoded_sentence = decode_sequence(input_seq)\n",
    "print('Input English sentence:', X_train[k:k+1].values[0])\n",
    "reference = y_train[k:k+1].values[0][6:-4]\n",
    "reference = [reference]\n",
    "print('Actual Marathi Translation:', reference)\n",
    "predicted = decoded_sentence[:-4]\n",
    "predicted = [predicted]\n",
    "print('Predicted Marathi Translation:', predicted)\n",
    "calculate_bleu(reference, predicted)"
   ]
  },
  {
   "cell_type": "code",
   "execution_count": 40,
   "metadata": {},
   "outputs": [
    {
     "name": "stdout",
     "output_type": "stream",
     "text": [
      "1/1 [==============================] - 0s 27ms/step\n",
      "1/1 [==============================] - 0s 24ms/step\n",
      "1/1 [==============================] - 0s 24ms/step\n",
      "1/1 [==============================] - 0s 25ms/step\n",
      "1/1 [==============================] - 0s 24ms/step\n",
      "1/1 [==============================] - 0s 25ms/step\n",
      "Input English sentence: he was a soldier during the war\n",
      "Actual Marathi Translation: [' युद्धाच्या वेळी तो सैनिक होता ']\n",
      "Predicted Marathi Translation: [' तो किती मुलगा होता ']\n",
      "BLEU Score: 0.1479401567477645\n"
     ]
    }
   ],
   "source": [
    "k+=1\n",
    "(input_seq, actual_output), _ = next(train_gen)\n",
    "decoded_sentence = decode_sequence(input_seq)\n",
    "print('Input English sentence:', X_train[k:k+1].values[0])\n",
    "reference = y_train[k:k+1].values[0][6:-4]\n",
    "reference = [reference]\n",
    "print('Actual Marathi Translation:', reference)\n",
    "predicted = decoded_sentence[:-4]\n",
    "predicted = [predicted]\n",
    "print('Predicted Marathi Translation:', predicted)\n",
    "calculate_bleu(reference, predicted)"
   ]
  },
  {
   "cell_type": "code",
   "execution_count": 41,
   "metadata": {},
   "outputs": [
    {
     "name": "stdout",
     "output_type": "stream",
     "text": [
      "1/1 [==============================] - 0s 27ms/step\n",
      "1/1 [==============================] - 0s 25ms/step\n",
      "1/1 [==============================] - 0s 24ms/step\n",
      "1/1 [==============================] - 0s 24ms/step\n",
      "1/1 [==============================] - 0s 24ms/step\n",
      "Input English sentence: he did not die of cancer\n",
      "Actual Marathi Translation: [' ते कर्करोगामुळे मेले नाहीत ']\n",
      "Predicted Marathi Translation: [' तो आपल्या करतो ']\n",
      "BLEU Score: 0.0\n"
     ]
    }
   ],
   "source": [
    "k+=1\n",
    "(input_seq, actual_output), _ = next(train_gen)\n",
    "decoded_sentence = decode_sequence(input_seq)\n",
    "print('Input English sentence:', X_train[k:k+1].values[0])\n",
    "reference = y_train[k:k+1].values[0][6:-4]\n",
    "reference = [reference]\n",
    "print('Actual Marathi Translation:', reference)\n",
    "predicted = decoded_sentence[:-4]\n",
    "predicted = [predicted]\n",
    "print('Predicted Marathi Translation:', predicted)\n",
    "calculate_bleu(reference, predicted)"
   ]
  },
  {
   "cell_type": "code",
   "execution_count": 45,
   "metadata": {},
   "outputs": [
    {
     "name": "stdout",
     "output_type": "stream",
     "text": [
      "1/1 [==============================] - 0s 26ms/step\n",
      "1/1 [==============================] - 0s 24ms/step\n",
      "1/1 [==============================] - 0s 24ms/step\n",
      "1/1 [==============================] - 0s 26ms/step\n",
      "1/1 [==============================] - 0s 24ms/step\n",
      "1/1 [==============================] - 0s 24ms/step\n",
      "Input English sentence: i believe tom is right\n",
      "Actual Marathi Translation: [' माझा विश्वास आहे की टॉम बरोबर आहे ']\n",
      "Predicted Marathi Translation: [' मी टॉमचा विश्वास आहे ']\n",
      "BLEU Score: 0.15090767577522726\n"
     ]
    }
   ],
   "source": [
    "k+=1\n",
    "(input_seq, actual_output), _ = next(train_gen)\n",
    "decoded_sentence = decode_sequence(input_seq)\n",
    "print('Input English sentence:', X_train[k:k+1].values[0])\n",
    "reference = y_train[k:k+1].values[0][6:-4]\n",
    "reference = [reference]\n",
    "print('Actual Marathi Translation:', reference)\n",
    "predicted = decoded_sentence[:-4]\n",
    "predicted = [predicted]\n",
    "print('Predicted Marathi Translation:', predicted)\n",
    "calculate_bleu(reference, predicted)"
   ]
  },
  {
   "cell_type": "code",
   "execution_count": 50,
   "metadata": {},
   "outputs": [
    {
     "name": "stdout",
     "output_type": "stream",
     "text": [
      "1/1 [==============================] - 0s 25ms/step\n",
      "1/1 [==============================] - 0s 24ms/step\n",
      "1/1 [==============================] - 0s 24ms/step\n",
      "1/1 [==============================] - 0s 24ms/step\n",
      "1/1 [==============================] - 0s 24ms/step\n",
      "1/1 [==============================] - 0s 24ms/step\n",
      "1/1 [==============================] - 0s 24ms/step\n",
      "Input English sentence: i bought two bottles of milk\n",
      "Actual Marathi Translation: [' मी दुधाच्या दोन बाटल्या विकत घेतल्या ']\n",
      "Predicted Marathi Translation: [' मी माझ्या भाऊ काम केला ']\n",
      "BLEU Score: 0.08745825313180626\n"
     ]
    }
   ],
   "source": [
    "k+=1\n",
    "(input_seq, actual_output), _ = next(train_gen)\n",
    "decoded_sentence = decode_sequence(input_seq)\n",
    "print('Input English sentence:', X_train[k:k+1].values[0])\n",
    "reference = y_train[k:k+1].values[0][6:-4]\n",
    "reference = [reference]\n",
    "print('Actual Marathi Translation:', reference)\n",
    "predicted = decoded_sentence[:-4]\n",
    "predicted = [predicted]\n",
    "print('Predicted Marathi Translation:', predicted)\n",
    "calculate_bleu(reference, predicted)"
   ]
  },
  {
   "cell_type": "code",
   "execution_count": 54,
   "metadata": {},
   "outputs": [
    {
     "name": "stdout",
     "output_type": "stream",
     "text": [
      "1/1 [==============================] - 0s 26ms/step\n",
      "1/1 [==============================] - 0s 23ms/step\n",
      "1/1 [==============================] - 0s 24ms/step\n",
      "1/1 [==============================] - 0s 24ms/step\n",
      "1/1 [==============================] - 0s 24ms/step\n",
      "1/1 [==============================] - 0s 24ms/step\n",
      "Input English sentence: weve run out of coffee\n",
      "Actual Marathi Translation: [' कॉफी संपली आहे ']\n",
      "Predicted Marathi Translation: [' मला आता जायचं आहे ']\n",
      "BLEU Score: 0.1597357760615681\n"
     ]
    }
   ],
   "source": [
    "k+=1\n",
    "(input_seq, actual_output), _ = next(train_gen)\n",
    "decoded_sentence = decode_sequence(input_seq)\n",
    "print('Input English sentence:', X_train[k:k+1].values[0])\n",
    "reference = y_train[k:k+1].values[0][6:-4]\n",
    "reference = [reference]\n",
    "print('Actual Marathi Translation:', reference)\n",
    "predicted = decoded_sentence[:-4]\n",
    "predicted = [predicted]\n",
    "print('Predicted Marathi Translation:', predicted)\n",
    "calculate_bleu(reference, predicted)"
   ]
  },
  {
   "cell_type": "code",
   "execution_count": null,
   "metadata": {},
   "outputs": [],
   "source": []
  }
 ],
 "metadata": {
  "kernelspec": {
   "display_name": "Python 3 (ipykernel)",
   "language": "python",
   "name": "python3"
  },
  "language_info": {
   "codemirror_mode": {
    "name": "ipython",
    "version": 3
   },
   "file_extension": ".py",
   "mimetype": "text/x-python",
   "name": "python",
   "nbconvert_exporter": "python",
   "pygments_lexer": "ipython3",
   "version": "3.7.6"
  }
 },
 "nbformat": 4,
 "nbformat_minor": 4
}
